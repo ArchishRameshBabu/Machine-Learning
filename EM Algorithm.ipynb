{
 "cells": [
  {
   "cell_type": "markdown",
   "metadata": {},
   "source": [
    "### Reading the data"
   ]
  },
  {
   "cell_type": "code",
   "execution_count": 1,
   "metadata": {},
   "outputs": [],
   "source": [
    "file = open('C:/Users/archi/Desktop/data1.txt', 'r').read().strip()\n",
    "data = file.split(\"\\n\")\n",
    "data = list(map(float,data))\n"
   ]
  },
  {
   "cell_type": "markdown",
   "metadata": {},
   "source": [
    "### EDA"
   ]
  },
  {
   "cell_type": "code",
   "execution_count": 22,
   "metadata": {},
   "outputs": [
    {
     "data": {
      "text/plain": [
       "Text(0, 0.5, 'No of times')"
      ]
     },
     "execution_count": 22,
     "metadata": {},
     "output_type": "execute_result"
    },
    {
     "data": {
      "image/png": "[encoded data removed]",
      "text/plain": [
       "<Figure size 432x288 with 1 Axes>"
      ]
     },
     "metadata": {
      "needs_background": "light"
     },
     "output_type": "display_data"
    }
   ],
   "source": [
    "import matplotlib.pyplot as plt\n",
    "plt.hist(data, bins=50)\n",
    "plt.ylabel('No of times')\n"
   ]
  },
  {
   "cell_type": "markdown",
   "metadata": {},
   "source": [
    "### Gaussian Probablity"
   ]
  },
  {
   "cell_type": "code",
   "execution_count": 3,
   "metadata": {},
   "outputs": [],
   "source": [
    "import math\n",
    "from math import *\n",
    "\n",
    "\n",
    "def normpdf(x, mn, sdv):\n",
    "    v1 = math.exp(-(x-mn)**2/(2*(sdv**2)))\n",
    "    v2 = (2*3.14*(sdv**2))**.5\n",
    "    return v1/v2"
   ]
  },
  {
   "cell_type": "markdown",
   "metadata": {},
   "source": [
    "### 3 Gaussian Cluster"
   ]
  },
  {
   "cell_type": "code",
   "execution_count": 14,
   "metadata": {},
   "outputs": [],
   "source": [
    "mean1=-0.2\n",
    "sd1=0.1\n",
    "mean2=0.5\n",
    "sd2=0.1\n",
    "mean3=1.5\n",
    "sd3=0.1\n",
    "pc1=0.4\n",
    "pc2=0.3\n",
    "pc3=0.3\n",
    "likelyhood_old=-10\n",
    "Diff=10\n",
    "k=0\n",
    "likely=[]\n",
    "iteration=[]\n",
    "    \n",
    "check=0\n",
    "while check==0:\n",
    "    mean1_inter=0\n",
    "    len1_inter=0\n",
    "    sd1_inter=0\n",
    "    \n",
    "    mean2_inter=0\n",
    "    len2_inter=0\n",
    "    sd2_inter=0\n",
    "    \n",
    "    mean3_inter=0\n",
    "    len3_inter=0\n",
    "    sd3_inter=0\n",
    "    likelyhood=0\n",
    "    \n",
    "    #print(\"I Mean\",mean1,mean2,mean3)\n",
    "    #print(\"I Mean\",sd1,sd2,sd3)\n",
    "    \n",
    "    for i in range(len(data)):\n",
    "\n",
    "        p1=normpdf(data[i],mean1,sd1)*pc1\n",
    "        p2=normpdf(data[i],mean2,sd2)*pc2\n",
    "        p3=normpdf(data[i],mean3,sd3)*pc3\n",
    "        \n",
    "        dn=p1+p2+p3\n",
    "        likelyhood+=math.log(dn)\n",
    "    \n",
    "        \n",
    "        #print(\"D value\",dn)\n",
    "        ratio1=p1/dn\n",
    "        ratio2=p2/dn\n",
    "        ratio3=p3/dn\n",
    "        \n",
    "        #print(ratio1,ratio2,ratio3)\n",
    "        #print(ratio1)\n",
    "        \n",
    "        len1_inter+=ratio1\n",
    "        mean1_inter+=data[i]*ratio1\n",
    "        sd1_inter+=((data[i]**2)*(ratio1))\n",
    "        \n",
    "        len2_inter+=ratio2\n",
    "        mean2_inter+=data[i]*ratio2\n",
    "        sd2_inter+=((data[i]**2)*(ratio2))\n",
    "        \n",
    "        \n",
    "        len3_inter+=ratio3\n",
    "        mean3_inter+=data[i]*ratio3\n",
    "        sd3_inter+=((data[i]**2)*(ratio3))\n",
    "        \n",
    "        \n",
    "    Diff=likelyhood-likelyhood_old\n",
    "    likelyhood_old=likelyhood\n",
    "    mean1=mean1_inter/len1_inter\n",
    "    sd1=((sd1_inter/len1_inter) - (mean1_inter/len1_inter)**2)**0.5\n",
    "    pc1=len1_inter/(len1_inter+len2_inter+len3_inter)\n",
    "    \n",
    "    \n",
    "    mean2=mean2_inter/len2_inter\n",
    "    sd2=((sd2_inter/len2_inter) - (mean2_inter/len2_inter)**2)**0.5\n",
    "    pc2=len2_inter/(len1_inter+len2_inter+len3_inter)\n",
    "    \n",
    "    \n",
    "    mean3=mean3_inter/len3_inter\n",
    "    sd3=((sd3_inter/len3_inter) - (mean3_inter/len3_inter)**2)**0.5\n",
    "    pc3=len3_inter/(len1_inter+len2_inter+len3_inter)\n",
    "    \n",
    "    #print(len1_inter+len2_inter+len3_inter)\n",
    "    k=k+1\n",
    "    if(Diff<0.001 and k+1>20):\n",
    "        check=1\n",
    "    #print(\"Iteration\",k)\n",
    "    #print(\"Mean :\",mean1,mean2,mean3)\n",
    "    #print(\"SD\",sd1,sd2,sd3)\n",
    "    #print(\"LH\",likelyhood)\n",
    "    #print(Diff)\n",
    "    likely.append(likelyhood)\n",
    "    iteration.append(k)\n",
    "    #print(Diff)\n",
    "    \n",
    "    \n",
    "    \n",
    "    #print(pc1+pc2+pc3)"
   ]
  },
  {
   "cell_type": "code",
   "execution_count": 15,
   "metadata": {},
   "outputs": [
    {
     "name": "stdout",
     "output_type": "stream",
     "text": [
      "For cluster 1 mean=  0.28983589843379143 sd = 0.08414141530233518 probablity of cluster = 0.1938181013023901\n",
      "For cluster 2 mean=  0.5916173708561678 sd = 0.06789598031993199 probablity of cluster = 0.4833618923605128\n",
      "For cluster 3 mean=  0.8005667538338164 sd = 0.026323480871442338 probablity of cluster = 0.3228200063370972\n",
      "Likelihood Value =  285.1203856672273 Number of iterations =  47\n"
     ]
    },
    {
     "data": {
      "image/png": "[encoded data removed]",
      "text/plain": [
       "<Figure size 432x288 with 1 Axes>"
      ]
     },
     "metadata": {
      "needs_background": "light"
     },
     "output_type": "display_data"
    }
   ],
   "source": [
    "print(\"For cluster 1 mean= \",mean1,\"sd =\",sd1,\"probablity of cluster =\",pc1)\n",
    "print(\"For cluster 2 mean= \",mean2,\"sd =\",sd2,\"probablity of cluster =\",pc2)\n",
    "print(\"For cluster 3 mean= \",mean3,\"sd =\",sd3,\"probablity of cluster =\",pc3)\n",
    "\n",
    "print(\"Likelihood Value = \",likely[len(likely)-1],\"Number of iterations = \",iteration[len(iteration)-1])\n",
    "plt.plot(iteration,likely)\n",
    "plt.title('Three Gaussian CLuster')\n",
    "plt.xlabel('Iteration')\n",
    "plt.ylabel('Loglikelihood')\n",
    "plt.show()"
   ]
  },
  {
   "cell_type": "markdown",
   "metadata": {},
   "source": [
    "### 2 Gaussian Cluster"
   ]
  },
  {
   "cell_type": "code",
   "execution_count": 16,
   "metadata": {},
   "outputs": [],
   "source": [
    "mean1=-0.2\n",
    "sd1=0.1\n",
    "mean2=0.5\n",
    "sd2=0.1\n",
    "pc1=0.4\n",
    "pc2=0.3\n",
    "likelyhood_old=0\n",
    "Diff=10\n",
    "k=0\n",
    "#print(Diff)\n",
    "likely=[]\n",
    "iteration=[]\n",
    "check=0\n",
    "while check==0:\n",
    "    mean1_inter=0\n",
    "    len1_inter=0\n",
    "    sd1_inter=0\n",
    "    \n",
    "    mean2_inter=0\n",
    "    len2_inter=0\n",
    "    sd2_inter=0\n",
    "    \n",
    "    likelyhood=0\n",
    "    \n",
    "    #print(\"I Mean\",mean1,mean2,mean3)\n",
    "    #print(\"I Mean\",sd1,sd2,sd3)\n",
    "    \n",
    "    for i in range(len(data)):\n",
    "\n",
    "        p1=normpdf(data[i],mean1,sd1)*pc1\n",
    "        p2=normpdf(data[i],mean2,sd2)*pc2\n",
    "        #p3=normpdf(data[i],mean3,sd3)*pc3\n",
    "        \n",
    "        dn=p1+p2\n",
    "        likelyhood+=math.log(dn)\n",
    "    \n",
    "        \n",
    "        #print(\"D value\",dn)\n",
    "        ratio1=p1/dn\n",
    "        ratio2=p2/dn\n",
    "        \n",
    "        #print(ratio1,ratio2,ratio3)\n",
    "        #print(ratio1)\n",
    "        \n",
    "        len1_inter+=ratio1\n",
    "        mean1_inter+=data[i]*ratio1\n",
    "        sd1_inter+=((data[i]**2)*(ratio1))\n",
    "        \n",
    "        len2_inter+=ratio2\n",
    "        mean2_inter+=data[i]*ratio2\n",
    "        sd2_inter+=((data[i]**2)*(ratio2))\n",
    "        \n",
    "        \n",
    "        \n",
    "    Diff=likelyhood-likelyhood_old\n",
    "    if(Diff<0.001 and k+1>20):\n",
    "        check=1\n",
    "    likelyhood_old=likelyhood\n",
    "    mean1=mean1_inter/len1_inter\n",
    "    sd1=((sd1_inter/len1_inter) - (mean1_inter/len1_inter)**2)**0.5\n",
    "    pc1=len1_inter/(len1_inter+len2_inter)\n",
    "    \n",
    "    \n",
    "    mean2=mean2_inter/len2_inter\n",
    "    sd2=((sd2_inter/len2_inter) - (mean2_inter/len2_inter)**2)**0.5\n",
    "    pc2=len2_inter/(len1_inter+len2_inter)\n",
    "    \n",
    "    \n",
    "    #print(len1_inter+len2_inter+len3_inter)\n",
    "    k=k+1\n",
    "    #print(\"Iteration\",k)\n",
    "    #print(\"Mean :\",mean1,mean2)\n",
    "    #print(\"SD\",sd1,sd2)\n",
    "    #print(\"LH\",likelyhood)\n",
    "    #print(Diff)\n",
    "    likely.append(likelyhood)\n",
    "    iteration.append(k)\n",
    "    \n",
    "    \n",
    "    #print(pc1+pc2+pc3)"
   ]
  },
  {
   "cell_type": "code",
   "execution_count": 18,
   "metadata": {},
   "outputs": [
    {
     "name": "stdout",
     "output_type": "stream",
     "text": [
      "For cluster 1 mean=  0.2735827189717292 sd = 0.07551587312062641 probablity of cluster = 0.16785886152396132\n",
      "For cluster 2 mean=  0.6665412760106519 sd = 0.12481138878717397 probablity of cluster = 0.8321411384760387\n",
      "Likelihood Value =  174.4446080527105 Number of iterations =  28\n"
     ]
    },
    {
     "data": {
      "image/png": "[encoded data removed]",
      "text/plain": [
       "<Figure size 432x288 with 1 Axes>"
      ]
     },
     "metadata": {
      "needs_background": "light"
     },
     "output_type": "display_data"
    }
   ],
   "source": [
    "print(\"For cluster 1 mean= \",mean1,\"sd =\",sd1,\"probablity of cluster =\",pc1)\n",
    "print(\"For cluster 2 mean= \",mean2,\"sd =\",sd2,\"probablity of cluster =\",pc2)\n",
    "\n",
    "print(\"Likelihood Value = \",likely[len(likely)-1],\"Number of iterations = \",iteration[len(iteration)-1])\n",
    "plt.plot(iteration,likely)\n",
    "plt.title('Two Gaussian CLuster')\n",
    "plt.xlabel('Iteration')\n",
    "plt.ylabel('Loglikelihood')\n",
    "plt.show()"
   ]
  },
  {
   "cell_type": "markdown",
   "metadata": {},
   "source": [
    "### 4 Gaussian Cluster"
   ]
  },
  {
   "cell_type": "code",
   "execution_count": 19,
   "metadata": {},
   "outputs": [],
   "source": [
    "mean1=0.1\n",
    "sd1=0.1\n",
    "mean2=0.25\n",
    "sd2=0.1\n",
    "mean3=0.4\n",
    "sd3=0.1\n",
    "mean4=1.3\n",
    "sd4=0.1\n",
    "pc1=0.25\n",
    "pc2=0.25\n",
    "pc3=0.25\n",
    "pc4=0.25\n",
    "\n",
    "likelyhood_old=0\n",
    "Diff=10\n",
    "k=0\n",
    "likely=[]\n",
    "iteration=[]\n",
    "check=0    \n",
    "\n",
    "\n",
    "while check==0:\n",
    "    mean1_inter=0\n",
    "    len1_inter=0\n",
    "    sd1_inter=0\n",
    "    \n",
    "    mean2_inter=0\n",
    "    len2_inter=0\n",
    "    sd2_inter=0\n",
    "    \n",
    "    mean3_inter=0\n",
    "    len3_inter=0\n",
    "    sd3_inter=0\n",
    "    \n",
    "    mean4_inter=0\n",
    "    len4_inter=0\n",
    "    sd4_inter=0\n",
    "    \n",
    "    \n",
    "    likelyhood=0\n",
    "    \n",
    "    #print(\"I Mean\",mean1,mean2,mean3)\n",
    "    #print(\"I Mean\",sd1,sd2,sd3)\n",
    "    \n",
    "    for i in range(len(data)):\n",
    "\n",
    "        p1=normpdf(data[i],mean1,sd1)*pc1\n",
    "        p2=normpdf(data[i],mean2,sd2)*pc2\n",
    "        p3=normpdf(data[i],mean3,sd3)*pc3\n",
    "        p4=normpdf(data[i],mean4,sd4)*pc4\n",
    "        \n",
    "        dn=p1+p2+p3+p4\n",
    "        likelyhood+=math.log(dn)\n",
    "    \n",
    "        \n",
    "        #print(\"D value\",dn)\n",
    "        ratio1=p1/dn\n",
    "        ratio2=p2/dn\n",
    "        ratio3=p3/dn\n",
    "        ratio4=p4/dn\n",
    "        \n",
    "        #print(ratio1,ratio2,ratio3)\n",
    "        #print(ratio1)\n",
    "        \n",
    "        len1_inter+=ratio1\n",
    "        mean1_inter+=data[i]*ratio1\n",
    "        sd1_inter+=((data[i]**2)*(ratio1))\n",
    "        \n",
    "        len2_inter+=ratio2\n",
    "        mean2_inter+=data[i]*ratio2\n",
    "        sd2_inter+=((data[i]**2)*(ratio2))\n",
    "        \n",
    "        \n",
    "        len3_inter+=ratio3\n",
    "        mean3_inter+=data[i]*ratio3\n",
    "        sd3_inter+=((data[i]**2)*(ratio3))\n",
    "        \n",
    "        len4_inter+=ratio4\n",
    "        mean4_inter+=data[i]*ratio4\n",
    "        sd4_inter+=((data[i]**2)*(ratio4))\n",
    "        \n",
    "        \n",
    "    Diff=likelyhood-likelyhood_old\n",
    "    if(Diff<0.001 and k+1>20):\n",
    "        check=1\n",
    "    likelyhood_old=likelyhood\n",
    "    mean1=mean1_inter/len1_inter\n",
    "    sd1=((sd1_inter/len1_inter) - (mean1_inter/len1_inter)**2)**0.5\n",
    "    pc1=len1_inter/(len1_inter+len2_inter+len3_inter+len4_inter)\n",
    "    \n",
    "    \n",
    "    mean2=mean2_inter/len2_inter\n",
    "    sd2=((sd2_inter/len2_inter) - (mean2_inter/len2_inter)**2)**0.5\n",
    "    pc2=len2_inter/(len1_inter+len2_inter+len3_inter+len4_inter)\n",
    "    \n",
    "    \n",
    "    mean3=mean3_inter/len3_inter\n",
    "    sd3=((sd3_inter/len3_inter) - (mean3_inter/len3_inter)**2)**0.5\n",
    "    pc3=len3_inter/(len1_inter+len2_inter+len3_inter+len4_inter)\n",
    "    \n",
    "    mean4=mean4_inter/len4_inter\n",
    "    sd4=((sd4_inter/len4_inter) - (mean4_inter/len4_inter)**2)**0.5\n",
    "    pc4=len4_inter/(len1_inter+len2_inter+len3_inter+len4_inter)\n",
    "    \n",
    "    #print(len1_inter+len2_inter+len3_inter)\n",
    "    k=k+1\n",
    "    \n",
    "    #print(round(Diff,3))\n",
    "    likely.append(likelyhood)\n",
    "    iteration.append(k)\n",
    "    \n",
    "    \n",
    "    \n",
    "    #print(pc1+pc2+pc3)"
   ]
  },
  {
   "cell_type": "code",
   "execution_count": 20,
   "metadata": {},
   "outputs": [
    {
     "name": "stdout",
     "output_type": "stream",
     "text": [
      "For cluster 1 mean=  0.23558855661013897 sd = 0.0654477378874594 probablity of cluster = 0.04742706224254776\n",
      "For cluster 2 mean=  0.3102409096371194 sd = 0.08422690786415384 probablity of cluster = 0.1490154128625675\n",
      "For cluster 3 mean=  0.59212344669931 sd = 0.06718288405285334 probablity of cluster = 0.4802566487776963\n",
      "For cluster 4 mean=  0.8005067309414463 sd = 0.02637634909629922 probablity of cluster = 0.3233008761171885\n",
      "Likelihood Value =  285.25815300369834 Number of iterations =  48\n"
     ]
    },
    {
     "data": {
      "image/png": "[encoded data removed]",
      "text/plain": [
       "<Figure size 432x288 with 1 Axes>"
      ]
     },
     "metadata": {
      "needs_background": "light"
     },
     "output_type": "display_data"
    }
   ],
   "source": [
    "print(\"For cluster 1 mean= \",mean1,\"sd =\",sd1,\"probablity of cluster =\",pc1)\n",
    "print(\"For cluster 2 mean= \",mean2,\"sd =\",sd2,\"probablity of cluster =\",pc2)\n",
    "print(\"For cluster 3 mean= \",mean3,\"sd =\",sd3,\"probablity of cluster =\",pc3)\n",
    "print(\"For cluster 4 mean= \",mean4,\"sd =\",sd4,\"probablity of cluster =\",pc4)\n",
    "\n",
    "print(\"Likelihood Value = \",likely[len(likely)-1],\"Number of iterations = \",iteration[len(iteration)-1])\n",
    "plt.plot(iteration,likely)\n",
    "plt.title('Four Gaussian CLuster')\n",
    "plt.xlabel('Iteration')\n",
    "plt.ylabel('Loglikelihood')\n",
    "plt.show()"
   ]
  }
 ],
 "metadata": {
  "kernelspec": {
   "display_name": "Python 3",
   "language": "python",
   "name": "python3"
  },
  "language_info": {
   "codemirror_mode": {
    "name": "ipython",
    "version": 3
   },
   "file_extension": ".py",
   "mimetype": "text/x-python",
   "name": "python",
   "nbconvert_exporter": "python",
   "pygments_lexer": "ipython3",
   "version": "3.7.1"
  }
 },
 "nbformat": 4,
 "nbformat_minor": 2
}
