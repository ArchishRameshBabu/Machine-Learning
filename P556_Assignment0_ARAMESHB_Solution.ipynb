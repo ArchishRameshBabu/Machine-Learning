{
 "cells": [
  {
   "cell_type": "markdown",
   "metadata": {
    "colab_type": "text",
    "id": "P9jhkSLIJKOl"
   },
   "source": [
    "<center>\n",
    "  <h1> CSCI-P556 Applied Machine Learning</h1>\n",
    "  <h1> CSCI-P556</h1>\n",
    "  <h1> Assignment 0 </h1>\n",
    "</center>\n",
    "---\n",
    "\n",
    "\n",
    "\n"
   ]
  },
  {
   "cell_type": "markdown",
   "metadata": {
    "colab_type": "text",
    "id": "JYtDB9S1J0Wt"
   },
   "source": [
    "## Instructions\n",
    "1. Please read the questions carefully and give your responses in the correct positions.\n",
    "2. Do not change the contents of the notebook except when adding your reponses or where it is explicitly mentioned.\n",
    "3. Whenever you are asked to write a function and the argument names are mentioned in the question, you have to assume that while testing these arguments will be defined elsewhere in the notebook. \n",
    "3. You are allowed to define test arguments of the same name in the respective code block in order to test your functions.\n",
    "4. If you have been asked to print or plot something, you are supposed to print/plot it and not just provide a function.\n",
    "5. You should save your notebook along with the outputs and submit it\n",
    "\n"
   ]
  },
  {
   "cell_type": "code",
   "execution_count": 1,
   "metadata": {
    "colab": {},
    "colab_type": "code",
    "id": "UNM9lalxKEHe"
   },
   "outputs": [],
   "source": [
    "# For this assignment you'll need to import the following libraries:\n",
    "import numpy as np\n",
    "import pandas as pd\n",
    "import matplotlib.pyplot as plt\n",
    "import timeit"
   ]
  },
  {
   "cell_type": "markdown",
   "metadata": {
    "colab_type": "text",
    "id": "zTxEzCY4KOHu"
   },
   "source": [
    "## Question 1 (5 points)\n",
    "\n",
    "Consider a 4x4 numpy array as shown\n",
    "$$\\begin{bmatrix}1 & 2 & 3 & 4\\\\5 & 6 & 7 & 8\\\\9 & 10 & 11 & 12\\\\13 & 14 & 15 & 16\\end{bmatrix}$$\n",
    "\n",
    "1. Create the above matrix with one line of code and name it $a$. Print the matrix.\n",
    "2. Write code to select its principal diagonal in another line. Store this diagonal in $d$. Print $d$\n",
    "3. Write code to select 4 elements in the center of the array (in this case, 6, 7, 10, 11) and store it in $c$. Print $c$.\n",
    "4. Replace the diagonal elements by their squares and print the new $a$.\n",
    "\n",
    "#### Restrictions: \n",
    "To make the problem interesting, you are **NOT** allowed to:\n",
    "- Create the matrix using `a = np.array([[1, 2, 3, 4], [5, 6, 7, 8], [9, 10, 11, 12], [13, 14, 15, 16]])`\n",
    "- Use the diagonal() method that is available in numpy"
   ]
  },
  {
   "cell_type": "code",
   "execution_count": 2,
   "metadata": {
    "colab": {},
    "colab_type": "code",
    "id": "SmNPL0dEKJ3e"
   },
   "outputs": [
    {
     "name": "stdout",
     "output_type": "stream",
     "text": [
      "[[ 1  2  3  4]\n",
      " [ 5  6  7  8]\n",
      " [ 9 10 11 12]\n",
      " [13 14 15 16]]\n",
      "[1, 6, 11, 16]\n",
      "[ 6  7 10 11]\n",
      "[[  1   2   3   4]\n",
      " [  5  36   7   8]\n",
      " [  9  10 121  12]\n",
      " [ 13  14  15 256]]\n"
     ]
    }
   ],
   "source": [
    "### YOUR CODE FOR Q1 GOES HERE\n",
    "##Sub 1\n",
    "a = np.reshape(list(range(1,17)),(4,4))\n",
    "print(a)\n",
    "\n",
    "##Sub 2\n",
    "rows=a.shape[0]\n",
    "diag_element=list(range(rows))\n",
    "d=[]\n",
    "\n",
    "for i in diag_element:\n",
    "    d.append(a[i][i])\n",
    "\n",
    "print(d)\n",
    "\n",
    "##Sub 3\n",
    "rows=a.shape[0]\n",
    "cols=a.shape[1]\n",
    "\n",
    "rows2=int(rows/2)\n",
    "cols2=int(cols/2)\n",
    "\n",
    "c=np.append(a[rows2-1][cols2-1:cols2+1],a[rows2][cols2-1:cols2+1])  ## For even number square matrix \n",
    "\n",
    "if(rows%2!=0) :                                                      \n",
    "    c=a[rows2][cols2]                                               ## For odd number square matrix \n",
    "\n",
    "print(c)\n",
    "\n",
    "##Sub 4 \n",
    "diag_element=list(range(rows))\n",
    "\n",
    "for i in diag_element:\n",
    "    a[i][i]=a[i][i] ** (2)\n",
    "\n",
    "print(a)"
   ]
  },
  {
   "cell_type": "markdown",
   "metadata": {
    "colab_type": "text",
    "id": "gh3V-1mRQeBm"
   },
   "source": [
    "## Question 2 (3 points)\n",
    "\n",
    "Let us make the above question a bit more interesting. What if you didn't know the size of the array $a$. Let us assume it is $n \\times n$.\n",
    "1. Write code to print the diagonal elements of $a$.\n",
    "2. For any $k$, write code to print the elements which lie in the center $k \\times k$ region of the $a$.\n",
    "\n",
    "#### Note:\n",
    "- Same restrictions apply as above\n",
    "- You should assume that only the matrix $a$ and the integer $k$ have been defined elsewhere in the notebook are available to you. Your code will be tested on a number of test cases and should pass them all successfully\n"
   ]
  },
  {
   "cell_type": "code",
   "execution_count": 3,
   "metadata": {
    "colab": {},
    "colab_type": "code",
    "id": "4d2P-o5mKZG2"
   },
   "outputs": [
    {
     "name": "stdout",
     "output_type": "stream",
     "text": [
      "[1, 36, 121, 256]\n",
      "[[ 36   7]\n",
      " [ 10 121]]\n"
     ]
    }
   ],
   "source": [
    "### YOUR CODE FOR Q2 GOES HERE\n",
    "k=2  ## Modify if needed\n",
    "\n",
    "rows=a.shape[0]\n",
    "diag_element=list(range(rows))\n",
    "d=[]\n",
    "\n",
    "for i in diag_element:\n",
    "    d.append(a[i][i])\n",
    "\n",
    "print(d)\n",
    "\n",
    "\n",
    "rows=a.shape[0]\n",
    "cols=a.shape[1]\n",
    "\n",
    "\n",
    "rows_new=int((rows-k)/2)\n",
    "cols_new=int((cols-k)/2)\n",
    "\n",
    "Removing_inital_rows=a[rows_new:,:]\n",
    "Removing_last_rows=Removing_inital_rows[:-rows_new,:]\n",
    "Removing_inital_cols=Removing_last_rows[:,cols_new:]\n",
    "central_k_elements=Removing_inital_cols[:,:-cols_new]\n",
    "\n",
    "print(central_k_elements)\n"
   ]
  },
  {
   "cell_type": "markdown",
   "metadata": {
    "colab_type": "text",
    "id": "1vUKeUCMUl08"
   },
   "source": [
    "## Question 3 (6 points)\n",
    "\n",
    "In this question, we will look at the speedup that vectorization brings to the table. The dot product of two vectors $\\overline{a}=[a_1, a_2, \\ldots, a_n]$ and $\\overline{b}=[b_1, b_2, \\ldots, b_n]$  is defined as:\n",
    "$$ \\overline{a} \\cdot \\overline{b} = \\sum_{i=1}^n a_i b_i$$\n",
    "\n",
    "1. Write a function to calculate the dot product of two lists using `for` loops.\n",
    "2. Use numpy's functionality to do the same.\n",
    "3. Find out computation times for arrays of sizes (10,000, 20,0000, ..., 100,000) and plot the two sets of times in a line plot."
   ]
  },
  {
   "cell_type": "code",
   "execution_count": 17,
   "metadata": {
    "colab": {},
    "colab_type": "code",
    "id": "gyFm-preaCoM"
   },
   "outputs": [
    {
     "data": {
      "image/png": "[encoded data removed]",
      "text/plain": [
       "<Figure size 432x288 with 1 Axes>"
      ]
     },
     "metadata": {},
     "output_type": "display_data"
    }
   ],
   "source": [
    "## Boilerplate code for Question 3\n",
    "gen = np.random.RandomState(seed=42)\n",
    "\n",
    "def time_function(f, *args):\n",
    "  \"\"\"\n",
    "  This is a simple utility function to measure the runtime \n",
    "  of a python function. It will return the result of the function\n",
    "  execution and the time taken to run that function. Any arguments \n",
    "  required by the function to run should be passed after the function name.\n",
    "  INPUT: function name, arg1, arg2, ...\n",
    "  OUTPUT: Output of the passed function, time taken to run it\n",
    "  \"\"\"   \n",
    "  start = timeit.default_timer()\n",
    "  ret = f(*args)\n",
    "  f(*args)\n",
    "  f(*args)\n",
    "  stop = timeit.default_timer()\n",
    "  return ret, (stop-start)/3\n",
    "\n",
    "def random_int_array(array_size):\n",
    "  # The low and high arguments below are used to specify the range of random\n",
    "  # values that will be used to generate the random integers.\n",
    "  return np.random.randint(low=0, high=1000000, size=array_size)\n",
    "\n",
    "def calculate_dot_product(a, b):\n",
    "    length=list(range(len(a)))\n",
    "    c=np.zeros(len(a))\n",
    "\n",
    "    for i in length:\n",
    "        c[i]=a[i]*b[i]\n",
    "\n",
    "    d=sum(c)\n",
    "    return d\n",
    "\n",
    "def numpy_dot_product(a, b):\n",
    "    c=np.dot(a,b)\n",
    "    return c \n",
    "\n",
    "Time_for_loop=[]\n",
    "Time_Numpy_product=[]\n",
    "Size_check=[]\n",
    "\n",
    "sizes = (10000 * i for i in range(1, 11))\n",
    "for size in sizes:\n",
    "  a = gen.rand(size)\n",
    "  b = gen.rand(size)\n",
    "  dp1 = time_function(calculate_dot_product,a,b) # Modify these two lines to calculate output and runtime using \n",
    "  dp2 = time_function(numpy_dot_product,a,b) # the above utility function\n",
    "  assert(round(dp1[0],5) == round(dp2[0],5))\n",
    "  Time_for_loop.append(dp1[1])\n",
    "  Time_Numpy_product.append(dp2[1])\n",
    "  Size_check.append(dp1[0])\n",
    "\n",
    "  ### Write code to store the values\n",
    "  \n",
    "# Write code to plot the values\n",
    "plt.plot(Size_check, Time_Numpy_product, color='g',label='Numpy')\n",
    "plt.plot(Size_check, Time_for_loop, color='r',label='For Loop')\n",
    "plt.legend()\n",
    "plt.xlabel('Variable Count')\n",
    "plt.ylabel('Execution Time')\n",
    "plt.title('Numpy Vs For Loop Execution Time')\n",
    "plt.show()"
   ]
  },
  {
   "cell_type": "markdown",
   "metadata": {
    "colab_type": "text",
    "id": "xBdVl9BY3AdU"
   },
   "source": [
    "## Question 4 (4 points)\n",
    "\n",
    "We have provided code which loads an interesting dataset about breast cancer in a pandas dataframe variable called `data`. We also provide 5 samples of the dataset\n",
    "The breast cancer dataset is loaded into a dataframe called \"data\" and the \"labels\" are stored as a dataframe as well.  \n",
    "\n",
    "Please bear in mind that you cannot actually look at the entire dataset in the notebook since it has many columns. If you want to look at the entire dataframe/dataset, use data.to_csv() to write the data frame to a csv file. For the questions given, you don't actually need to look at the entire dataset. A sample of the data shown in the next block is enough.\n",
    "\n",
    "Write code to:\n",
    "\n",
    "1.  Get the total number of samples whose \"mean perimeter\" is greater than 130.\n",
    "2.  Group the \"worst area\" column based on the \"labels\" and get the maximum \"worst area\" for each group. In this case, there will be 2 groups since we have only 2 labels.\n",
    "3.  Get the column which has the minimum sum and subtract each value of that column by its mean. i.e., (column value - mean of the column)"
   ]
  },
  {
   "cell_type": "code",
   "execution_count": 5,
   "metadata": {
    "colab": {
     "base_uri": "https://localhost:8080/",
     "height": 267
    },
    "colab_type": "code",
    "id": "_ceJP6tPcWu_",
    "outputId": "6069e1c8-efc7-46aa-d106-24d0be25207b"
   },
   "outputs": [
    {
     "data": {
      "text/html": [
       "<div>\n",
       "<style scoped>\n",
       "    .dataframe tbody tr th:only-of-type {\n",
       "        vertical-align: middle;\n",
       "    }\n",
       "\n",
       "    .dataframe tbody tr th {\n",
       "        vertical-align: top;\n",
       "    }\n",
       "\n",
       "    .dataframe thead th {\n",
       "        text-align: right;\n",
       "    }\n",
       "</style>\n",
       "<table border=\"1\" class=\"dataframe\">\n",
       "  <thead>\n",
       "    <tr style=\"text-align: right;\">\n",
       "      <th></th>\n",
       "      <th>mean radius</th>\n",
       "      <th>mean texture</th>\n",
       "      <th>mean perimeter</th>\n",
       "      <th>mean area</th>\n",
       "      <th>mean smoothness</th>\n",
       "      <th>mean compactness</th>\n",
       "      <th>mean concavity</th>\n",
       "      <th>mean concave points</th>\n",
       "      <th>mean symmetry</th>\n",
       "      <th>mean fractal dimension</th>\n",
       "      <th>...</th>\n",
       "      <th>worst radius</th>\n",
       "      <th>worst texture</th>\n",
       "      <th>worst perimeter</th>\n",
       "      <th>worst area</th>\n",
       "      <th>worst smoothness</th>\n",
       "      <th>worst compactness</th>\n",
       "      <th>worst concavity</th>\n",
       "      <th>worst concave points</th>\n",
       "      <th>worst symmetry</th>\n",
       "      <th>worst fractal dimension</th>\n",
       "    </tr>\n",
       "  </thead>\n",
       "  <tbody>\n",
       "    <tr>\n",
       "      <th>0</th>\n",
       "      <td>17.99</td>\n",
       "      <td>10.38</td>\n",
       "      <td>122.80</td>\n",
       "      <td>1001.0</td>\n",
       "      <td>0.11840</td>\n",
       "      <td>0.27760</td>\n",
       "      <td>0.3001</td>\n",
       "      <td>0.14710</td>\n",
       "      <td>0.2419</td>\n",
       "      <td>0.07871</td>\n",
       "      <td>...</td>\n",
       "      <td>25.38</td>\n",
       "      <td>17.33</td>\n",
       "      <td>184.60</td>\n",
       "      <td>2019.0</td>\n",
       "      <td>0.1622</td>\n",
       "      <td>0.6656</td>\n",
       "      <td>0.7119</td>\n",
       "      <td>0.2654</td>\n",
       "      <td>0.4601</td>\n",
       "      <td>0.11890</td>\n",
       "    </tr>\n",
       "    <tr>\n",
       "      <th>1</th>\n",
       "      <td>20.57</td>\n",
       "      <td>17.77</td>\n",
       "      <td>132.90</td>\n",
       "      <td>1326.0</td>\n",
       "      <td>0.08474</td>\n",
       "      <td>0.07864</td>\n",
       "      <td>0.0869</td>\n",
       "      <td>0.07017</td>\n",
       "      <td>0.1812</td>\n",
       "      <td>0.05667</td>\n",
       "      <td>...</td>\n",
       "      <td>24.99</td>\n",
       "      <td>23.41</td>\n",
       "      <td>158.80</td>\n",
       "      <td>1956.0</td>\n",
       "      <td>0.1238</td>\n",
       "      <td>0.1866</td>\n",
       "      <td>0.2416</td>\n",
       "      <td>0.1860</td>\n",
       "      <td>0.2750</td>\n",
       "      <td>0.08902</td>\n",
       "    </tr>\n",
       "    <tr>\n",
       "      <th>2</th>\n",
       "      <td>19.69</td>\n",
       "      <td>21.25</td>\n",
       "      <td>130.00</td>\n",
       "      <td>1203.0</td>\n",
       "      <td>0.10960</td>\n",
       "      <td>0.15990</td>\n",
       "      <td>0.1974</td>\n",
       "      <td>0.12790</td>\n",
       "      <td>0.2069</td>\n",
       "      <td>0.05999</td>\n",
       "      <td>...</td>\n",
       "      <td>23.57</td>\n",
       "      <td>25.53</td>\n",
       "      <td>152.50</td>\n",
       "      <td>1709.0</td>\n",
       "      <td>0.1444</td>\n",
       "      <td>0.4245</td>\n",
       "      <td>0.4504</td>\n",
       "      <td>0.2430</td>\n",
       "      <td>0.3613</td>\n",
       "      <td>0.08758</td>\n",
       "    </tr>\n",
       "    <tr>\n",
       "      <th>3</th>\n",
       "      <td>11.42</td>\n",
       "      <td>20.38</td>\n",
       "      <td>77.58</td>\n",
       "      <td>386.1</td>\n",
       "      <td>0.14250</td>\n",
       "      <td>0.28390</td>\n",
       "      <td>0.2414</td>\n",
       "      <td>0.10520</td>\n",
       "      <td>0.2597</td>\n",
       "      <td>0.09744</td>\n",
       "      <td>...</td>\n",
       "      <td>14.91</td>\n",
       "      <td>26.50</td>\n",
       "      <td>98.87</td>\n",
       "      <td>567.7</td>\n",
       "      <td>0.2098</td>\n",
       "      <td>0.8663</td>\n",
       "      <td>0.6869</td>\n",
       "      <td>0.2575</td>\n",
       "      <td>0.6638</td>\n",
       "      <td>0.17300</td>\n",
       "    </tr>\n",
       "    <tr>\n",
       "      <th>4</th>\n",
       "      <td>20.29</td>\n",
       "      <td>14.34</td>\n",
       "      <td>135.10</td>\n",
       "      <td>1297.0</td>\n",
       "      <td>0.10030</td>\n",
       "      <td>0.13280</td>\n",
       "      <td>0.1980</td>\n",
       "      <td>0.10430</td>\n",
       "      <td>0.1809</td>\n",
       "      <td>0.05883</td>\n",
       "      <td>...</td>\n",
       "      <td>22.54</td>\n",
       "      <td>16.67</td>\n",
       "      <td>152.20</td>\n",
       "      <td>1575.0</td>\n",
       "      <td>0.1374</td>\n",
       "      <td>0.2050</td>\n",
       "      <td>0.4000</td>\n",
       "      <td>0.1625</td>\n",
       "      <td>0.2364</td>\n",
       "      <td>0.07678</td>\n",
       "    </tr>\n",
       "  </tbody>\n",
       "</table>\n",
       "<p>5 rows × 30 columns</p>\n",
       "</div>"
      ],
      "text/plain": [
       "   mean radius  mean texture  mean perimeter  mean area  mean smoothness  \\\n",
       "0        17.99         10.38          122.80     1001.0          0.11840   \n",
       "1        20.57         17.77          132.90     1326.0          0.08474   \n",
       "2        19.69         21.25          130.00     1203.0          0.10960   \n",
       "3        11.42         20.38           77.58      386.1          0.14250   \n",
       "4        20.29         14.34          135.10     1297.0          0.10030   \n",
       "\n",
       "   mean compactness  mean concavity  mean concave points  mean symmetry  \\\n",
       "0           0.27760          0.3001              0.14710         0.2419   \n",
       "1           0.07864          0.0869              0.07017         0.1812   \n",
       "2           0.15990          0.1974              0.12790         0.2069   \n",
       "3           0.28390          0.2414              0.10520         0.2597   \n",
       "4           0.13280          0.1980              0.10430         0.1809   \n",
       "\n",
       "   mean fractal dimension           ...             worst radius  \\\n",
       "0                 0.07871           ...                    25.38   \n",
       "1                 0.05667           ...                    24.99   \n",
       "2                 0.05999           ...                    23.57   \n",
       "3                 0.09744           ...                    14.91   \n",
       "4                 0.05883           ...                    22.54   \n",
       "\n",
       "   worst texture  worst perimeter  worst area  worst smoothness  \\\n",
       "0          17.33           184.60      2019.0            0.1622   \n",
       "1          23.41           158.80      1956.0            0.1238   \n",
       "2          25.53           152.50      1709.0            0.1444   \n",
       "3          26.50            98.87       567.7            0.2098   \n",
       "4          16.67           152.20      1575.0            0.1374   \n",
       "\n",
       "   worst compactness  worst concavity  worst concave points  worst symmetry  \\\n",
       "0             0.6656           0.7119                0.2654          0.4601   \n",
       "1             0.1866           0.2416                0.1860          0.2750   \n",
       "2             0.4245           0.4504                0.2430          0.3613   \n",
       "3             0.8663           0.6869                0.2575          0.6638   \n",
       "4             0.2050           0.4000                0.1625          0.2364   \n",
       "\n",
       "   worst fractal dimension  \n",
       "0                  0.11890  \n",
       "1                  0.08902  \n",
       "2                  0.08758  \n",
       "3                  0.17300  \n",
       "4                  0.07678  \n",
       "\n",
       "[5 rows x 30 columns]"
      ]
     },
     "execution_count": 5,
     "metadata": {},
     "output_type": "execute_result"
    }
   ],
   "source": [
    "#Starter code. Do not make changes to this code block.\n",
    "\n",
    "from sklearn.datasets import load_breast_cancer\n",
    "raw_data = load_breast_cancer()\n",
    "\n",
    "data = pd.DataFrame(raw_data[\"data\"], columns= raw_data[\"feature_names\"])\n",
    "labels = pd.DataFrame(raw_data[\"target\"], columns = [\"target\"])\n",
    "data.head()"
   ]
  },
  {
   "cell_type": "code",
   "execution_count": 6,
   "metadata": {
    "colab": {},
    "colab_type": "code",
    "id": "aI1QgmAx2man"
   },
   "outputs": [
    {
     "name": "stdout",
     "output_type": "stream",
     "text": [
      "51\n"
     ]
    }
   ],
   "source": [
    "# Code for Question 4.1\n",
    "filter_data=data.loc[data[\"mean perimeter\"]>130,]\n",
    "print(filter_data.shape[0])  ##Number of rows"
   ]
  },
  {
   "cell_type": "code",
   "execution_count": 7,
   "metadata": {
    "colab": {},
    "colab_type": "code",
    "id": "lWAS-epe4DnR"
   },
   "outputs": [
    {
     "data": {
      "text/plain": [
       "target\n",
       "0    4254.0\n",
       "1    1210.0\n",
       "Name: worst area, dtype: float64"
      ]
     },
     "execution_count": 7,
     "metadata": {},
     "output_type": "execute_result"
    }
   ],
   "source": [
    "# Code for Question 4.2\n",
    "df_c = pd.concat([data, labels], axis=1)\n",
    "\n",
    "aggs= df_c.groupby('target').agg('max')\n",
    "\n",
    "aggs[\"worst area\"]\n"
   ]
  },
  {
   "cell_type": "code",
   "execution_count": 8,
   "metadata": {
    "colab": {},
    "colab_type": "code",
    "id": "KggURDgi9vVl"
   },
   "outputs": [
    {
     "name": "stdout",
     "output_type": "stream",
     "text": [
      "Column with the lowest sum is fractal dimension error\n",
      "Updated values for fractal dimension error\n",
      "0      0.002398\n",
      "1     -0.000263\n",
      "2      0.000776\n",
      "3      0.005413\n",
      "4      0.001320\n",
      "5      0.001287\n",
      "6     -0.001616\n",
      "7      0.001617\n",
      "8     -0.000046\n",
      "9      0.006285\n",
      "10    -0.000753\n",
      "11     0.000349\n",
      "12     0.009045\n",
      "13    -0.000793\n",
      "14     0.004298\n",
      "15     0.001671\n",
      "16    -0.001710\n",
      "17     0.000347\n",
      "18    -0.001798\n",
      "19    -0.001495\n",
      "20    -0.001370\n",
      "21    -0.000827\n",
      "22     0.000599\n",
      "23    -0.001808\n",
      "24    -0.000994\n",
      "25     0.003649\n",
      "26    -0.000084\n",
      "27     0.000422\n",
      "28    -0.000828\n",
      "29    -0.000053\n",
      "         ...   \n",
      "539    0.003756\n",
      "540    0.001717\n",
      "541    0.002316\n",
      "542   -0.001169\n",
      "543   -0.002452\n",
      "544   -0.000196\n",
      "545   -0.001212\n",
      "546   -0.001189\n",
      "547    0.002095\n",
      "548    0.000359\n",
      "549   -0.000818\n",
      "550   -0.001567\n",
      "551    0.000928\n",
      "552   -0.002069\n",
      "553    0.000828\n",
      "554   -0.000994\n",
      "555    0.001143\n",
      "556   -0.001517\n",
      "557   -0.000471\n",
      "558    0.000611\n",
      "559    0.000943\n",
      "560    0.001509\n",
      "561   -0.002022\n",
      "562    0.002347\n",
      "563    0.002418\n",
      "564    0.000444\n",
      "565   -0.001297\n",
      "566    0.000097\n",
      "567    0.002390\n",
      "568   -0.001012\n",
      "Name: fractal dimension error, Length: 569, dtype: float64\n"
     ]
    }
   ],
   "source": [
    "# Code for Question 4.3\n",
    "\n",
    "col_sum=df_c.agg('sum')\n",
    "print(\"Column with the lowest sum is\",col_sum.idxmin())\n",
    "\n",
    "sub_tem=data[col_sum.idxmin()].mean()\n",
    "data[col_sum.idxmin()] = data[col_sum.idxmin()] - sub_tem\n",
    "print(\"Updated values for\",col_sum.idxmin())\n",
    "print(data[col_sum.idxmin()])"
   ]
  },
  {
   "cell_type": "markdown",
   "metadata": {
    "colab_type": "text",
    "id": "kiYPu2_sMrrh"
   },
   "source": [
    "## Question 5 (7 points)\n",
    "\n",
    "### Part A\n",
    "\n",
    "Write a function which takes three inputs and produces a plot using matplotlib. The first two inputs are lists. Each list contains a certain number of tuples. Each tuple in turn contains the $x$ and $y$ co-ordinates of a point. The third input is a stand-alone tuple containing the co-efficients $(a, b, c)$ of a line represented by $ax + by + c = 0$.\n",
    "\n",
    "The function should plot the first set of points with a red '+' and the second set of points with a blue 'o'. The function should also plot the line in green color. Give a suitable legend and name the axes. If the final tuple isn't provided, the function should gracefully avoid printing the line instead of throwing an error. Feel feel to modify the function definition accordingly.\n"
   ]
  },
  {
   "cell_type": "code",
   "execution_count": 9,
   "metadata": {
    "colab": {},
    "colab_type": "code",
    "id": "p_QBjYa-MrOq"
   },
   "outputs": [
    {
     "data": {
      "image/png": "[encoded data removed]",
      "text/plain": [
       "<Figure size 432x288 with 1 Axes>"
      ]
     },
     "metadata": {},
     "output_type": "display_data"
    }
   ],
   "source": [
    "def plotLineAndPoints(l1, l2, *c):\n",
    "    \n",
    "    fir_l1=[]\n",
    "    for i in range(len(l1)):\n",
    "        fir_l1.append(l1[i][0])\n",
    "\n",
    "    sec_l1=[]\n",
    "    for i in range(len(l1)):\n",
    "        sec_l1.append(l1[i][1])\n",
    "\n",
    "    fir_l2=[]\n",
    "    for i in range(len(l2)):\n",
    "        fir_l2.append(l2[i][0])\n",
    "\n",
    "    sec_l2=[]\n",
    "    for i in range(len(l1)):\n",
    "        sec_l2.append(l2[i][1])\n",
    "        \n",
    "    \n",
    "    x = np.linspace(0, 10, 1000)\n",
    "    plt.scatter(fir_l1,sec_l1,color='r',marker='+',label='l1')\n",
    "    plt.scatter(fir_l2,sec_l2,color='b',marker='o',label='l2')\n",
    "    plt.xlabel('x value')\n",
    "    plt.ylabel('y value')\n",
    "    plt.legend()\n",
    "    try:plt.plot(x,-(c[0][2]+c[0][0]*x)/c[0][1],color='g')\n",
    "    except:print(\"Not enough arguments to create a line\")\n",
    "### Your code goes here\n",
    "    pass\n",
    "\n",
    "## Sample Test Cases (We will have many more)\n",
    "plotLineAndPoints([(1, 2), (2, 3)], [(3, 4), (4, 5)], (-1, 2, 2))"
   ]
  },
  {
   "cell_type": "markdown",
   "metadata": {
    "colab_type": "text",
    "id": "xI3oSb5LScm7"
   },
   "source": [
    "### Part B"
   ]
  },
  {
   "cell_type": "markdown",
   "metadata": {
    "colab_type": "text",
    "id": "61TPqs_JTL2-"
   },
   "source": [
    "Euclidean distance between two points is defined as by equation (1) on this [Wikipedia page](https://en.wikipedia.org/wiki/Euclidean_distance).\n",
    "\n",
    "  1. Your first task is to write down that code using Markdown math in this cell. It should contain both lines of equation (1)\n",
    " $d(p,q)=\\sqrt{(q_1-p_1)^2 + (q_2-p_2)^2 + ..... + (q_n-p_n)^2}$     &         \n",
    " $d(p,q)=\\sqrt{\\sum_{i=1}^{n} (p_i-q_i)^2 .}$\n",
    "\n",
    "  2. Given a point $(x_1,y_1)$ and a radius $r_1$, randomly generate 10 points which lie within the given radius of the given point. The radius is calculated using Euclidean distance. Store them in list $l_1$.\n",
    "  3. Generate another list $l_2$ for a new point $(x_2, y_2)$ and radius $r_2$\n",
    "  4. Use the function written in part A to plot the above sets of points."
   ]
  },
  {
   "cell_type": "code",
   "execution_count": 10,
   "metadata": {
    "colab": {},
    "colab_type": "code",
    "id": "5bNLsyriTKQd"
   },
   "outputs": [
    {
     "name": "stdout",
     "output_type": "stream",
     "text": [
      "Not enough arguments to create a line\n"
     ]
    },
    {
     "data": {
      "image/png": "[encoded data removed]",
      "text/plain": [
       "<Figure size 432x288 with 1 Axes>"
      ]
     },
     "metadata": {},
     "output_type": "display_data"
    }
   ],
   "source": [
    "x1, y1 = 0, 0\n",
    "r1 = 10\n",
    "x2, y2 = 25, 25\n",
    "r2 = 15\n",
    "## YOUR CODE GOES HERE\n",
    "X1_array=np.random.randint(low=(x1-r1), high=(x1+r1), size=100)\n",
    "Y1_array=np.random.randint(low=y1-r1,high=y1+r1, size=100)\n",
    "X2_array=np.random.randint(low=(x2-r2), high=(x2+r2), size=100)\n",
    "Y2_array=np.random.randint(low=(y2-r2), high=(y2+r2), size=100)\n",
    "var=list(range(100))\n",
    "\n",
    "###def plotLineAndPoints(x1,y1,X1_array,Y1_array):\n",
    "l1_inter=[]\n",
    "for i in var:\n",
    "    eu_dist=((X1_array[i]-x1)**2 + (Y1_array[i]-y1)**2)**0.5\n",
    "    if(eu_dist<r1):l1_inter.append([X1_array[i],Y1_array[i]])\n",
    "    \n",
    "l1=l1_inter[0:10]\n",
    "\n",
    "\n",
    "l2_inter=[]\n",
    "for i in var:\n",
    "    eu_dist=((X2_array[i]-x2)**2 + (Y2_array[i]-y2)**2)**0.5\n",
    "    if(eu_dist<r2):l2_inter.append([X2_array[i],Y2_array[i]])\n",
    "    \n",
    "l2=l2_inter[0:10]\n",
    "\n",
    "plotLineAndPoints(l1,l2)"
   ]
  }
 ],
 "metadata": {
  "colab": {
   "collapsed_sections": [],
   "name": "P556-Assignment0",
   "provenance": [],
   "version": "0.3.2"
  },
  "kernelspec": {
   "display_name": "Python 3",
   "language": "python",
   "name": "python3"
  },
  "language_info": {
   "codemirror_mode": {
    "name": "ipython",
    "version": 3
   },
   "file_extension": ".py",
   "mimetype": "text/x-python",
   "name": "python",
   "nbconvert_exporter": "python",
   "pygments_lexer": "ipython3",
   "version": "3.6.5"
  }
 },
 "nbformat": 4,
 "nbformat_minor": 1
}
