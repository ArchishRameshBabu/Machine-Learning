{
 "cells": [
  {
   "cell_type": "markdown",
   "metadata": {
    "colab_type": "text",
    "id": "R--G1S4LFVR9"
   },
   "source": [
    "<center>\n",
    "#CSCI-P556: Applied Machine Learning\n",
    "#Fall 2018\n",
    "#Assignment #2\n",
    "</center>\n",
    "---\n",
    "\n"
   ]
  },
  {
   "cell_type": "markdown",
   "metadata": {
    "colab_type": "text",
    "id": "Ooye3d-VGooZ"
   },
   "source": [
    "## Problem 1 (50 points)\n",
    "\n",
    "In this problem you will be working with Bank Marketing Dataset. We encourage your to look at the description and make yourself comfortable with it: https://archive.ics.uci.edu/ml/datasets/bank+marketing\n",
    "\n",
    "Two pairs of training and validation sets have been drawn from this dataset for you to work with, namely: \n",
    " -  `train_1.csv` and `valid_1.csv`\n",
    " -  `train_2.csv`and `valid_2.csv`\n",
    " \n",
    "Finally, we have also provided a `test.csv` which is common for both settings.\n",
    "\n",
    "### Task 0: (3 points)\n",
    "\n",
    "What is the difference between the two sets of train/validation sets? Write your answer here:\n",
    "\n",
    "### Ans: \n",
    "1) Data Size : The ratio of data size between the two sets of train/validation is 80:20 while the featuers are the same. The reason we have two datasets is to evaluate the how an increase in data size affects the model accuracy since more cases will be covered in the 2nd test/valid sets\n",
    "\n",
    "2) Balance : The ratio of yes:no in the train1 and valid 1 is arond 50:50 whereas in the test 2 & valid 2 the ratio of yes:no is around 12:88"
   ]
  },
  {
   "cell_type": "markdown",
   "metadata": {
    "colab_type": "text",
    "id": "MFKZT4mhJlSK"
   },
   "source": [
    "### Task 1 (Data Preprocessing) (12 points)\n",
    "\n",
    "Before you can train a machine learning model using this dataset, you will have to run a number of preprocessing steps to transform the data into a form which will be acceptable to the model. In this task, you are supposed to carry out the follow steps:\n",
    "\n",
    "1.  Find all features that have continuous numeric values and normalize them in the same way as you did in Assignment 1. List those features here.\n",
    "2. Find all categorical features and process them as was discussed in class. List those features and explain what you did.\n",
    "3. Are there any features which have missing values? (Hint: Missing values aren't always nicely represented and can be misleading sometimes). Find those features and explain how you will handle them.\n",
    "\n"
   ]
  },
  {
   "cell_type": "markdown",
   "metadata": {
    "colab_type": "text",
    "id": "uLoZ67_hPo9I"
   },
   "source": [
    "Write your text-based answers here.\n",
    "\n",
    "\n",
    "1.   Features with continuous numeric values were identified using dtypes function and have been normalized. The list of continuous features that underwent normalization are :Age, Balance, Duration, Day, Campaign, pdays, previous. Day has been chosen as an interget since customers generally get salaries at the start of the month and as the month progresses they become more conservative with thier expenditure. \n",
    "\n",
    "2.   Categorical variables were identified using dtypes function and I have used get_dummies function to perform One-hot coding, columns : Job, marital, Eduction, Default, Housing, Loan, Contact, Month, poutcome and y\n",
    "\n",
    "3.   There are no null values in any of the datasets. However, the variable pdays has ~80% its value as -1, this value represents that ~80% of the data in that column is missing. Hence i will be removing that column from the analysis since treating it with either the mean/extreme values will lead to a lot skew in that data.\n"
   ]
  },
  {
   "cell_type": "code",
   "execution_count": 1,
   "metadata": {},
   "outputs": [],
   "source": [
    "import numpy as np\n",
    "import pandas as pd\n",
    "from sklearn import linear_model\n",
    "from sklearn.linear_model import LogisticRegression\n",
    "from sklearn.metrics import mean_squared_error\n",
    "import matplotlib.pyplot as plt"
   ]
  },
  {
   "cell_type": "code",
   "execution_count": 2,
   "metadata": {},
   "outputs": [],
   "source": [
    "def feature_normalization(X):\n",
    "    '''\n",
    "    In this function we are going to do something similar to what we did in A0, \n",
    "    we are going to normalize all the features. Implement the following steps:\n",
    "    \n",
    "    - for each feature, calculate its mean\n",
    "    - substract the mean from their respective feature\n",
    "    - save the above result in the 'mu' variable\n",
    "    \n",
    "    - for each feature, calculate its standard deviation\n",
    "    - divide each feature by its standard deviation\n",
    "    - save the above result in the 'sigma' variable\n",
    "    \n",
    "    '''\n",
    "  \n",
    "    n = X.shape[1]\n",
    "    X_norm = X\n",
    "    mu = np.zeros(n)\n",
    "    sigma = np.zeros(n)\n",
    "    X_norm = X\n",
    "    X_norm=X_norm.astype(float)\n",
    "    mu=X.agg('mean')\n",
    "    sigma=(X.agg('var')) ** 0.5\n",
    "    X_norm=(X-mu)/sigma \n",
    "\n",
    "    return X_norm"
   ]
  },
  {
   "cell_type": "code",
   "execution_count": 3,
   "metadata": {
    "colab": {},
    "colab_type": "code",
    "id": "-kxn7ZjCJpJ2"
   },
   "outputs": [],
   "source": [
    "# PROBLEM 1, TASK 1 CODE GOES HERE\n",
    "\n",
    "##Input all necessary data\n",
    "train1=pd.read_csv(\"D:/Sem 1 IU My Stuff/AML/AML Assignment 2/train_1.csv\")\n",
    "train2=pd.read_csv(\"D:/Sem 1 IU My Stuff/AML/AML Assignment 2/train_2.csv\")\n",
    "valid1=pd.read_csv(\"D:/Sem 1 IU My Stuff/AML/AML Assignment 2/valid_1.csv\")\n",
    "valid2=pd.read_csv(\"D:/Sem 1 IU My Stuff/AML/AML Assignment 2/valid_2.csv\")\n",
    "test=pd.read_csv(\"D:/Sem 1 IU My Stuff/AML/AML Assignment 2/test.csv\")\n",
    "\n",
    "\n",
    "## Preprocessing the input data \n",
    "def preprocessing(data):\n",
    "    ##data.loc[data['previous']==0,'pdays']=999\n",
    "    data=data.drop(columns=['pdays'])\n",
    "    data1_int=data.loc[:, data.dtypes == 'int64']\n",
    "    data1_int_nor= feature_normalization(data1_int)\n",
    "    data1_fac=data.loc[:, data.dtypes == 'object']\n",
    "    data1_fac2=pd.get_dummies(data1_fac)\n",
    "    data1_nor_full = pd.concat([data1_int_nor,data1_fac2], axis=1)\n",
    "    return data1_nor_full\n",
    "\n",
    "## Treating the data \n",
    "train1_processed=preprocessing(train1)\n",
    "valid1_processed=preprocessing(valid1)\n",
    "train2_processed=preprocessing(train2)\n",
    "valid2_processed=preprocessing(valid2)\n",
    "test_processed=preprocessing(test)"
   ]
  },
  {
   "cell_type": "code",
   "execution_count": 4,
   "metadata": {},
   "outputs": [
    {
     "name": "stdout",
     "output_type": "stream",
     "text": [
      "Presence of NULL values in the dataset\n",
      "False\n",
      "False\n",
      "False\n",
      "False\n",
      "False\n"
     ]
    }
   ],
   "source": [
    "###Subdivision 3\n",
    "##No missing data \n",
    "\n",
    "print(\"Presence of NULL values in the dataset\")\n",
    "print(train1_processed.isnull().values.any())\n",
    "print(valid1_processed.isnull().values.any())\n",
    "print(train2_processed.isnull().values.any())\n",
    "print(valid2_processed.isnull().values.any())\n",
    "print(test_processed.isnull().values.any())"
   ]
  },
  {
   "cell_type": "markdown",
   "metadata": {
    "colab_type": "text",
    "id": "5EaChdKLJjio"
   },
   "source": [
    "### Task 2 (Model $\\mathcal{A}$) (10 points)\n",
    "\n",
    "Train a logistic regression model with $L_2$ regularization on `train_1.csv` after applying the necessary preprocessing steps of Task 1. Use the validation set `valid_1.csv` to choose the best regularization coefficient $\\lambda$. Plot a curve with regularization coefficient in the X axis and the validation accuracy on the Y axis."
   ]
  },
  {
   "cell_type": "code",
   "execution_count": 5,
   "metadata": {
    "colab": {},
    "colab_type": "code",
    "id": "aQGJ10L-KhZh"
   },
   "outputs": [
    {
     "name": "stdout",
     "output_type": "stream",
     "text": [
      "The model with the highest accuracy for the validation dataset has the lambda value 16.666666666666668\n",
      "The accuracy of the validation dataset for the above Lamda value= 0.8186650915534555\n",
      "The accuracy of the Training dataset for the above Lambda value= 0.8326192938395627\n",
      "The accuracy of the test dataset for the above Lambda value= 0.7611412141988279\n"
     ]
    },
    {
     "data": {
      "image/png": "[encoded data removed]",
      "text/plain": [
       "<Figure size 432x288 with 1 Axes>"
      ]
     },
     "metadata": {},
     "output_type": "display_data"
    }
   ],
   "source": [
    "# PROBLEM 1, TASK 2 CODE GOES HERE\n",
    "C_value = np.arange(0.005,0.5,0.005)\n",
    "Lambda_value=[]\n",
    "Lamda_accuracy=[]\n",
    "\n",
    "for i in C_value:\n",
    "    clf = LogisticRegression(fit_intercept=True,C=i)\n",
    "    clf.fit(train1_processed.iloc[:,:50], train1_processed.iloc[:,-1])\n",
    "    accuracy=clf.score(valid1_processed.iloc[:,:50], valid1_processed.iloc[:,-1])\n",
    "    Lambda_value.append(1/i)\n",
    "    Lamda_accuracy.append(accuracy)\n",
    "\n",
    "ind = np.argmax(Lamda_accuracy)\n",
    "print(\"The model with the highest accuracy for the validation dataset has the lambda value\", Lambda_value[ind])\n",
    "\n",
    "print(\"The accuracy of the validation dataset for the above Lamda value=\",Lamda_accuracy[ind])\n",
    "clf = LogisticRegression(fit_intercept=True,C=Lambda_value[ind])\n",
    "clf.fit(train1_processed.iloc[:,:50], train1_processed.iloc[:,-1])\n",
    "print(\"The accuracy of the Training dataset for the above Lambda value=\",clf.score(train1_processed.iloc[:,:50], train1_processed.iloc[:,-1]))\n",
    "print(\"The accuracy of the test dataset for the above Lambda value=\",clf.score(test_processed.iloc[:,:50], test_processed.iloc[:,-1]))\n",
    "\n",
    "##Test and training model for the \n",
    "\n",
    "plt.plot(Lambda_value,Lamda_accuracy)\n",
    "plt.xlabel(\"Values for Lambda\")\n",
    "plt.ylabel(\"Accuracy score from Validation Data\")\n",
    "plt.show()"
   ]
  },
  {
   "cell_type": "markdown",
   "metadata": {
    "colab_type": "text",
    "id": "c0UEYv92KnvQ"
   },
   "source": [
    "### Task 3 (Model $\\mathcal{B}$) (5 points)\n",
    "Train a logistic regression model with $L_2$ regularization on `train_2.csv` after applying the necessary preprocessing steps of Task 1. Use the validation set `valid_2.csv` to choose the best regularization coefficient $\\lambda$. Plot a curve with regularization coefficient in the X axis and the validation accuracy on the Y axis."
   ]
  },
  {
   "cell_type": "code",
   "execution_count": 6,
   "metadata": {},
   "outputs": [
    {
     "name": "stdout",
     "output_type": "stream",
     "text": [
      "The model with the maximum accuracy for the validation dataset has the lambda value 4.444444444444445\n",
      "The accuracy of the validation dataset for the above Lambda value= 0.9011611833010782\n",
      "The accuracy of the Training dataset for the above Lambda value= 0.9026750535701943\n",
      "The accuracy of the test dataset for the above Lambda value= 0.9019130819418335\n"
     ]
    },
    {
     "data": {
      "image/png": "[encoded data removed]",
      "text/plain": [
       "<Figure size 432x288 with 1 Axes>"
      ]
     },
     "metadata": {},
     "output_type": "display_data"
    }
   ],
   "source": [
    "# PROBLEM 1, TASK 3 CODE GOES HERE\n",
    "x = np.arange(0.005,0.5,0.005)\n",
    "C_value=[]\n",
    "C_accuracy=[]\n",
    "for i in x:\n",
    "    clf = LogisticRegression(fit_intercept=True,C=i)\n",
    "    clf.fit(train2_processed.iloc[:,:50], train2_processed.iloc[:,-1])\n",
    "    accuracy=clf.score(valid2_processed.iloc[:,:50], valid2_processed.iloc[:,-1])\n",
    "    C_value.append(1/i)\n",
    "    C_accuracy.append(accuracy)\n",
    "\n",
    "ind = np.argmax(C_accuracy)\n",
    "print(\"The model with the maximum accuracy for the validation dataset has the lambda value\", C_value[ind])\n",
    "\n",
    "print(\"The accuracy of the validation dataset for the above Lambda value=\",C_accuracy[ind])\n",
    "clf = LogisticRegression(fit_intercept=True,C=C_value[ind])\n",
    "clf.fit(train2_processed.iloc[:,:50], train2_processed.iloc[:,-1])\n",
    "print(\"The accuracy of the Training dataset for the above Lambda value=\",clf.score(train2_processed.iloc[:,:50], train2_processed.iloc[:,-1]))\n",
    "print(\"The accuracy of the test dataset for the above Lambda value=\",clf.score(test_processed.iloc[:,:50], test_processed.iloc[:,-1]))\n",
    "\n",
    "plt.plot(C_value,C_accuracy)\n",
    "plt.xlabel(\"Values for Lambda\")\n",
    "plt.ylabel(\"Accuracy score from Validation Data\")\n",
    "plt.show()"
   ]
  },
  {
   "cell_type": "markdown",
   "metadata": {
    "colab_type": "text",
    "id": "8KzsVhHPLd3P"
   },
   "source": [
    "### Task 4 (Model $\\mathcal{C}$) (10 points)\n",
    "\n",
    "As you have seen in class, due to the specific (and smart) choice of the loss function, a logistic regression classifier happens to predict the posterioir probability $p(y|\\mathbf{x})$ for any given sample. It then classifies the samples with $p(y|\\mathbf{x}) > 0.5$ as belonging to class $1$ and the rest as belonging to class $0$. Instead, for a fixed threshold of $0.5$, let us consider a dynamic threshold of $\\theta$ which can be chosen after a model has been trained.\n",
    "\n",
    "$$\n",
    "\\ y=\n",
    "\\begin{cases}\n",
    "1 \\text{ if } p(y|\\mathbf{x}) \\geq \\theta \\\\\n",
    "\\\\\n",
    "0 \\text{ if } p(y|\\mathbf{x}) < \\theta \\\\\n",
    "\\end{cases}\n",
    "$$\n",
    "\n",
    "for $0 \\leq \\theta \\leq 1$.\n",
    "\n",
    "Train a logistic regression model with $L_2$ regularization on `train_2.csv` after applying the necessary preprocessing steps of Task 1. Use the validation set `valid_2.csv` to choose the best combination of regularization coefficient $\\lambda$ and the threshold $\\theta$. The best coefficients has to be selected by you after trying out at least five, non-consecutive values. Visualize all these runs.\n",
    "\n",
    "**Hint**: Look at the documentation of Logistic Regression in sci-kit learn to come up with a plan to implement this."
   ]
  },
  {
   "cell_type": "code",
   "execution_count": 7,
   "metadata": {
    "colab": {},
    "colab_type": "code",
    "id": "zJRVTjjrSTRm"
   },
   "outputs": [
    {
     "name": "stdout",
     "output_type": "stream",
     "text": [
      "The model with the maximum accuracy for the validation dataset has the lambda value 40.0\n",
      "The model with the maximum accuracy has the validation dataset has the Threshold value 0.4\n",
      "The accuracy of the validation dataset for the above combination of Lambda & Threshold has the value= 0.9032347249101466\n",
      "The accuracy of the Training dataset for the above combination of Lambda & Threshold value= 0.9033729610174177\n",
      "The accuracy of the test dataset for the above combination of Lambda & Threshold has the value= 0.9046776512219397\n",
      "/n\n",
      "Variation in validation accuracy for across different Theta Groups, same set of Lambda value has been applied for each Threshold value\n",
      "               amin      amax      mean\n",
      "Threshold                              \n",
      "0.1        0.772602  0.818358  0.815441\n",
      "0.2        0.881393  0.888029  0.887325\n",
      "0.3        0.898949  0.901576  0.901036\n",
      "0.4        0.901161  0.903235  0.902444\n",
      "0.5        0.895217  0.901161  0.900441\n",
      "0.6        0.891623  0.899226  0.898708\n",
      "0.7        0.888167  0.896185  0.895667\n",
      "0.8        0.885817  0.893005  0.892243\n",
      "/n\n",
      "The results from iterating the Lambda and Threshold value on the validation dataset sorted by accuracy\n",
      "         Lambda  Threshold  Accuracy\n",
      "43    33.333333        0.4  0.903235\n",
      "35    40.000000        0.4  0.903235\n",
      "51    28.571429        0.4  0.903096\n",
      "779    2.040816        0.4  0.902958\n",
      "499    3.174603        0.4  0.902958\n",
      "739    2.150538        0.4  0.902958\n",
      "491    3.225806        0.4  0.902958\n",
      "771    2.061856        0.4  0.902958\n",
      "755    2.105263        0.4  0.902958\n",
      "787    2.020202        0.4  0.902958\n",
      "747    2.127660        0.4  0.902958\n",
      "475    3.333333        0.4  0.902958\n",
      "763    2.083333        0.4  0.902958\n",
      "723    2.197802        0.4  0.902820\n",
      "667    2.380952        0.4  0.902820\n",
      "507    3.125000        0.4  0.902820\n",
      "579    2.739726        0.4  0.902820\n",
      "59    25.000000        0.4  0.902820\n",
      "571    2.777778        0.4  0.902820\n",
      "563    2.816901        0.4  0.902820\n",
      "675    2.352941        0.4  0.902820\n",
      "67    22.222222        0.4  0.902820\n",
      "587    2.702703        0.4  0.902820\n",
      "595    2.666667        0.4  0.902820\n",
      "659    2.409639        0.4  0.902820\n",
      "603    2.631579        0.4  0.902820\n",
      "731    2.173913        0.4  0.902820\n",
      "707    2.247191        0.4  0.902820\n",
      "611    2.597403        0.4  0.902820\n",
      "651    2.439024        0.4  0.902820\n",
      "..          ...        ...       ...\n",
      "192    8.000000        0.1  0.816561\n",
      "184    8.333333        0.1  0.816561\n",
      "248    6.250000        0.1  0.816422\n",
      "232    6.666667        0.1  0.816422\n",
      "216    7.142857        0.1  0.816422\n",
      "208    7.407407        0.1  0.816422\n",
      "240    6.451613        0.1  0.816422\n",
      "176    8.695652        0.1  0.816284\n",
      "168    9.090909        0.1  0.816146\n",
      "152   10.000000        0.1  0.815593\n",
      "136   11.111111        0.1  0.815593\n",
      "128   11.764706        0.1  0.815455\n",
      "144   10.526316        0.1  0.815455\n",
      "160    9.523810        0.1  0.815455\n",
      "120   12.500000        0.1  0.815178\n",
      "104   14.285714        0.1  0.814625\n",
      "112   13.333333        0.1  0.814625\n",
      "88    16.666667        0.1  0.813519\n",
      "96    15.384615        0.1  0.813519\n",
      "80    18.181818        0.1  0.812690\n",
      "72    20.000000        0.1  0.811584\n",
      "64    22.222222        0.1  0.811031\n",
      "56    25.000000        0.1  0.809234\n",
      "48    28.571429        0.1  0.807299\n",
      "40    33.333333        0.1  0.805640\n",
      "32    40.000000        0.1  0.803290\n",
      "24    50.000000        0.1  0.800940\n",
      "16    66.666667        0.1  0.794858\n",
      "8    100.000000        0.1  0.788913\n",
      "0    200.000000        0.1  0.772602\n",
      "\n",
      "[792 rows x 3 columns]\n"
     ]
    }
   ],
   "source": [
    "# PROBLEM 1, TASK 4 CODE GOES HERE\n",
    "x = np.arange(0.005,0.5,0.005)\n",
    "C_value=[]\n",
    "C_accuracy=[]\n",
    "Theta_value=[]\n",
    "for i in x:\n",
    "    clf = LogisticRegression(fit_intercept=True,C=i)\n",
    "    clf.fit(train2_processed.iloc[:,:50], train2_processed.iloc[:,-1])\n",
    "    pred=clf.predict_proba(valid2_processed.iloc[:,:50])[:,1]\n",
    "    l2 = np.arange(0.1, 0.9, 0.1)\n",
    "    for j in l2:\n",
    "        k=np.where(pred <= j, 0, 1)\n",
    "        accuracy=sum(k==valid2_processed.iloc[:,-1])/len(k)\n",
    "        C_accuracy.append(accuracy)\n",
    "        C_value.append(1/i)\n",
    "        Theta_value.append(j)\n",
    "\n",
    "Final_Accuracy_all_Combo = pd.DataFrame({'C_Value': C_value,'Theta_value': Theta_value,'Accuracy': C_accuracy})\n",
    "\n",
    "Max_accuracy=Final_Accuracy_all_Combo[\"Accuracy\"].values.argmax()\n",
    "###print(Max_accuracy)\n",
    "Validation_set_accuracy_max=Final_Accuracy_all_Combo.iloc[Max_accuracy][\"Accuracy\"]\n",
    "Best_C_value=Final_Accuracy_all_Combo.iloc[Max_accuracy][\"C_Value\"]\n",
    "Best_Theta_value=Final_Accuracy_all_Combo.iloc[Max_accuracy][\"Theta_value\"]\n",
    "\n",
    "print(\"The model with the maximum accuracy for the validation dataset has the lambda value\", Best_C_value)\n",
    "print(\"The model with the maximum accuracy has the validation dataset has the Threshold value\", Best_Theta_value)\n",
    "\n",
    "print(\"The accuracy of the validation dataset for the above combination of Lambda & Threshold has the value=\",Validation_set_accuracy_max)\n",
    "clf = LogisticRegression(fit_intercept=True,C=Best_C_value)\n",
    "clf.fit(train2_processed.iloc[:,:50], train2_processed.iloc[:,-1])\n",
    "\n",
    "pred=clf.predict_proba(valid2_processed.iloc[:,:50])[:,1]\n",
    "k=np.where(pred <= Best_Theta_value, 0, 1)\n",
    "accuracy=sum(k==valid2_processed.iloc[:,-1])/len(k)\n",
    "\n",
    "print(\"The accuracy of the Training dataset for the above combination of Lambda & Threshold value=\",accuracy)\n",
    "\n",
    "pred=clf.predict_proba(test_processed.iloc[:,:50])[:,1]\n",
    "k=np.where(pred <= Best_Theta_value, 0, 1)\n",
    "accuracy=sum(k==test_processed.iloc[:,-1])/len(k)\n",
    "\n",
    "print(\"The accuracy of the test dataset for the above combination of Lambda & Threshold has the value=\",accuracy)\n",
    "\n",
    "##Table\n",
    "\n",
    "Final_Accuracy_all_Combo.columns=['Lambda','Threshold','Accuracy']\n",
    "print('/n')\n",
    "print(\"Variation in validation accuracy for across different Theta Groups, same set of Lambda value has been applied for each Threshold value\")\n",
    "agg=Final_Accuracy_all_Combo.groupby('Threshold')['Accuracy'].agg([pd.np.min, pd.np.max, pd.np.mean])\n",
    "print(agg)\n",
    "\n",
    "print('/n')\n",
    "print(\"The results from iterating the Lambda and Threshold value on the validation dataset sorted by accuracy\")\n",
    "\n",
    "print(Final_Accuracy_all_Combo.sort_values('Accuracy', ascending=False))"
   ]
  },
  {
   "cell_type": "markdown",
   "metadata": {
    "colab_type": "text",
    "id": "cTa2tMCPQmCV"
   },
   "source": [
    "### Task 5 (Report and Conclusion) (10 points)\n",
    "\n",
    "1.  Give a detailed report on the performance (that is, accuracy) of Models $\\mathcal{A}$, $\\mathcal{B}$ and $\\mathcal{C}$ on the respective training sets, the validation sets and finally the test. Explain any intuition you might have on what might be happening in each of the cases. Please avoid writing unnecessary details which are not pertinent.\n",
    "\n",
    "|         | Train  | Validation | Test   |\n",
    "|---------|--------|------------|--------|\n",
    "| Model A | 83.26% | 81.86%     | 76.11% |\n",
    "| Model B | 90.27% | 90.12%     | 90.19% |\n",
    "| Model C | 90.34% | 90.32%     | 90.47% |\n",
    "\n",
    "Model A: Model A is run with less amount of data and hence the accuracy is the lowest among A, B, C. The accuracy doenot change drastically by changing the value of Lambda in all 3 models when compared to the default lambda of 1, also it is observed that as lambda increases beyond the value of 10 the accuracy decreases. This indicates that the model is not overfit and this fact is also confirmed by the models' performance on the test data. \n",
    "\n",
    "Model B Vs C: A very minor increase can be observed by optimizing theta and lambda for model C, this is due to the fact that there is sufficient data in the training set. The default theta value of 0.5 works pretty well. \n",
    "\n",
    "Train Vs Validation Vs Test: In model 1 there is a lot of difference between train, test and validation accuracies.This is due to the low amount of data used to train Model 1. In Model B and C the values of test, train and validation only differ in the first decimal this indicates that the model is stable. The model A is following the expected behaviour where training data has the highest accuracy followed by the validation(since we are optiming the parameters based on Validation data) and then the test. \n",
    "\n",
    "2.  Do you think accuracy, the metric which you have used to find the best hyperparameter in all the above tasks, a good metric in this scenario? Explain your choice.\n",
    "\n",
    "The accuracy metric is a good measure to start evaluating any type of regression/classification problem, for classification problems like the one above the accuracy score measures % prediction of values that are accurately classified. \n",
    "1) A model with a high accuracy for both train & test/valid data means that the model is performing well \n",
    "2) A model with a high accuracy for the train & low accuracy for test/valid data means that the model is overfitting and we would have perform regularization or reduce the number of parametrs \n",
    "3) A model with low accuracy for both the test and validation sets indicates that the model needs improvement, this could be done by adding more features or data or trying out a different model \n",
    "\n",
    "For logistic regression, a better way to analyse the model performance is to look at the confusion matrix. The specificity and sensitivity values are very useful to better understand the model performance by classes. For eg, if 99% of the data belongs to class 0, then in a dataset if all predict the class of 0 then our accuracy will be 99% this is the biggest problem with accuracy and could be solved by looking at the specificity and sensitivity\n"
   ]
  },
  {
   "cell_type": "markdown",
   "metadata": {
    "colab_type": "text",
    "id": "3b62zDpk-O8v"
   },
   "source": [
    "## Problem 2 (50 points)\n",
    "\n",
    "Consider a regression problem in which the input variable $x$ has only one feature and the target variable $y$ is generated from the input variable $x$ by a polynomial $f(x)$. The function $f$ is such that $$f(x) = \\sum_{i=0}^d w_ix^i$$ Please note that a given polynomial function can be completely described by the vector of coefficients $\\mathbf{w}$.\n",
    "\n",
    "### Task 1 (5 points)\n",
    "\n",
    "Write a function in python which can take the degree of polynomial function as input. The code to generate vector coefficeints $\\mathbf{w}$ using this input is already provided. Plot the resulting function for $x \\in (-low, high)$. The function should be plot "
   ]
  },
  {
   "cell_type": "code",
   "execution_count": 8,
   "metadata": {
    "colab": {},
    "colab_type": "code",
    "id": "ivzCo28P_SFW"
   },
   "outputs": [
    {
     "data": {
      "image/png": "[encoded data removed]",
      "text/plain": [
       "<Figure size 432x288 with 1 Axes>"
      ]
     },
     "metadata": {},
     "output_type": "display_data"
    }
   ],
   "source": [
    "import numpy as np\n",
    "from scipy.special import legendre\n",
    "\n",
    "def get_coefficients(degree):\n",
    "    \"\"\"\n",
    "    The coefficients returned are in the order w_0, w_1, ... , w_{degree}\n",
    "    \"\"\"\n",
    "    return legendre(degree).coefficients[::-1]\n",
    "\n",
    "def visualize_function(degree, low, high):\n",
    "    w = get_coefficients(degree)\n",
    "    x = np.linspace(low, high, 100)\n",
    "    z=x\n",
    "    x=pd.DataFrame(x)\n",
    "    x.columns=['value']\n",
    "    m=len(w)\n",
    "    for i in range(m):\n",
    "        x[i]=x['value'] ** i\n",
    "    x = x.drop('value', 1)\n",
    "    y=np.dot(x,w)\n",
    "    plt.plot(z,y)\n",
    "    \n",
    "\n",
    "## TEST CASES (The following lines should plot a function)\n",
    "#visualize_function(3, -1, 1)\n",
    "#visualize_function(4, -1, 1)\n",
    "visualize_function(6, -1, 1)"
   ]
  },
  {
   "cell_type": "markdown",
   "metadata": {
    "colab_type": "text",
    "id": "z8Mm1YGNBH5u"
   },
   "source": [
    "### Task 2 (5 points)\n",
    "\n",
    "Write a function in python that randomly generates a dataset (training data + test data). The function should take the degree of target polynomial as input along with the number of points that should be generated for both the training and the test sets. The polynomial will be represented by the vector of coefficients. The code to calculate these coefficients has been provided. The function should also add random normal noise to the target -- i.e. the noise should be drawn from a normal distribution with mean $\\mu=0$ and standard deviation = $\\sigma^2$. Thus: \n",
    "$$y=\\sum_{i=0}^d w_ix^i + \\mathcal{N}(0, \\sigma^2)$$\n",
    "\n"
   ]
  },
  {
   "cell_type": "code",
   "execution_count": 9,
   "metadata": {
    "colab": {},
    "colab_type": "code",
    "id": "ZZ1zxLPvCyDt"
   },
   "outputs": [],
   "source": [
    "def generate_dataset(degree, n_train, n_test, sigma):\n",
    "    \"\"\"\n",
    "    - n_train - Number of training samples\n",
    "    - n_test - Number of test samples\n",
    "    - X_train is an array of size (n_train $\\times$ 1)\n",
    "    - y_train is an array of size (n_train $\\times$ 1)\n",
    "    - X_test is an array of size (n_test $\\times$ 1)\n",
    "    - y_test is an array of size (n_test $\\times$ 1)\n",
    "    \"\"\"\n",
    "    data_size=n_train+n_test\n",
    "    w = get_coefficients(degree)\n",
    "    x = np.linspace(-1, 1, data_size)\n",
    "    z=x\n",
    "    x=pd.DataFrame(x)\n",
    "    x.columns=['value']\n",
    "    m=len(w)\n",
    "    for i in range(m):\n",
    "        x[i]=x['value'] ** i\n",
    "    x = x.drop('value', 1)\n",
    "    y=np.dot(x,w)\n",
    "    normal=np.random.normal(0, sigma, data_size)\n",
    "    y_new=y+normal\n",
    "    y_new=pd.DataFrame(y_new)\n",
    "    data_final=pd.concat([x, y_new], axis=1)\n",
    "    ratio=n_train/data_size\n",
    "    msk=np.random.rand(len(data_final))<ratio\n",
    "    \n",
    "    train = data_final[msk]\n",
    "    test = data_final[~msk]\n",
    "    X_train=train.iloc[:,1]\n",
    "    X_train=X_train.values\n",
    "    y_train=train.iloc[:,-1]\n",
    "    y_train=y_train.values\n",
    "    X_test=test.iloc[:,1]\n",
    "    X_test=X_test.values\n",
    "    y_test=test.iloc[:,-1]\n",
    "    y_test=y_test.values\n",
    "\n",
    "    return X_train, y_train, X_test, y_test"
   ]
  },
  {
   "cell_type": "markdown",
   "metadata": {
    "colab_type": "text",
    "id": "et9gTUzy_Sn9"
   },
   "source": [
    "### Task 3 (20 points)\n",
    "\n",
    "1.   Use the function written in Task 2 to generate a dataset of degree $10$, with $20$ samples each in the training and test sets. The standard deviation of the noise should be $0.2$.\n",
    "2.   Plot the generated points of the train set over the function. Make use the function you wrote in Task 1 to do so. The resultant plot should not only contain the function in blue color but also the generated points in the train set in red color.\n",
    "3.   Fit two linear regressions models: $\\mathcal{A}$ and $\\mathcal{B}$ on the given training data. Model $\\mathcal{A}$ should be quadratic and Model $\\mathcal{B}$ should be of degree $10$. How would you create such models?\n",
    "4. Calculate the training error and testing error on both these models and report them nicely in a table.\n",
    "5. Explain the results:\n",
    " - Are the results as expected or surprising? Explain your stance.\n",
    " - Give a detailed explanation of why this happens.\n",
    " \n",
    " Quadratic Vs Degree 10 model :The results show that the quadratic model is more stable than the degree 10 model interms of prediction accuracy over the test dataset. This is as expected because the model with degree 10 will overfit the data since there is no regulaization taking place to control it. Also since the number of features in the quadratic model is less there is less chance of overfitting.  \n",
    " \n",
    " Test Accuracy for degree 10 model : The test set accuracy of the degree 10 model is better than the test accuracy from the quadratic model as expected since the degree 10 model has more features to learn extract information. \n",
    " \n",
    " Test Vs Validation : \n",
    " a) Degree 10 model : In degree 10 model the accuracy of the test set is much better than the validation due to the problem of overfitting\n",
    " b) Quadtatic Model : In the quadratic model since the data size is very low there is a lot of randomness and not much could be concluded from the test and validation accuracy, generally the test accuracy is much better than the validation accuracy\n",
    " \n",
    " **Hint**: You are free (in fact encouraged) to design new experiments under the same paradigm to understand what is happening. You can buttress your explanation with any plots which you might generate from such new experiments.\n",
    "\n",
    " \n",
    "Note: _There is no preference over the size of the answer but please note that you shouldn't write anything that is not pertinent. While being terse, your answer should clearly convey the intuition. Also, use logical number code/text cells---i.e. every subquestion in a given task which can be considered a logical unit should be present in one cell. Do not make one cell unnecessarily long by putting multiple answers in it or split a given answer over multiple cells. Use your best judgement."
   ]
  },
  {
   "cell_type": "code",
   "execution_count": 46,
   "metadata": {},
   "outputs": [
    {
     "name": "stdout",
     "output_type": "stream",
     "text": [
      "                    Training Error  Testing Error\n",
      "0  Quadratic Model        0.057108       0.192133\n",
      "1  Degree 10 Model        0.015973     199.925667\n"
     ]
    },
    {
     "data": {
      "image/png": "[encoded data removed]",
      "text/plain": [
       "<Figure size 432x288 with 1 Axes>"
      ]
     },
     "metadata": {},
     "output_type": "display_data"
    }
   ],
   "source": [
    "X_train, y_train, X_test, y_test=generate_dataset(10, 20, 20, 0.2)\n",
    "\n",
    "X_train=pd.DataFrame(X_train)\n",
    "y_train=pd.DataFrame(y_train)\n",
    "X_test=pd.DataFrame(X_test)\n",
    "X_train=pd.DataFrame(X_train)\n",
    "visualize_function(10, -1, 1)\n",
    "\n",
    "X_train.columns=['value']\n",
    "X_test.columns=['value']\n",
    "plt.scatter(X_train,y_train,color='r')\n",
    "\n",
    "### Creating the test and train set with all necessary columns \n",
    "for i in range(11):\n",
    "    X_train[i]=X_train['value'] ** i\n",
    "\n",
    "X_train = X_train.drop('value', 1)\n",
    "    \n",
    "for i in range(11):\n",
    "    X_test[i]=X_test['value'] ** i\n",
    "\n",
    "X_test = X_test.drop('value', 1)\n",
    "X_train.columns=['x0','x1','x2','x3','x4','x5','x6','x7','x8','x9','x10']\n",
    "X_test.columns=['x0','x1','x2','x3','x4','x5','x6','x7','x8','x9','x10']\n",
    "\n",
    "##Model A\n",
    "LR_quad = linear_model.LinearRegression()\n",
    "LR_quad.fit(X_train.iloc[:,:3], y_train)\n",
    "\n",
    "y_pred = LR_quad.predict(X_train.iloc[:,:3])\n",
    "MSE_quad_train=mean_squared_error(y_train, y_pred)\n",
    "\n",
    "y_pred = LR_quad.predict(X_test.iloc[:,:3])\n",
    "MSE_quad_test=mean_squared_error(y_test, y_pred)\n",
    "\n",
    "\n",
    "##Model B\n",
    "LR_pow = linear_model.LinearRegression()\n",
    "LR_pow.fit(X_train, y_train)\n",
    "\n",
    "y_pred = LR_pow.predict(X_train)\n",
    "MSE_high_pow_train=mean_squared_error(y_train, y_pred)\n",
    "\n",
    "y_pred = LR_pow.predict(X_test)\n",
    "MSE_high_pow_test=mean_squared_error(y_test, y_pred)\n",
    "\n",
    "\n",
    "A = [['Quadratic Model',MSE_quad_train,MSE_quad_test],['Degree 10 Model',MSE_high_pow_train,MSE_high_pow_test]]\n",
    "A=pd.DataFrame(A)\n",
    "A.columns=['  ','Training Error','Testing Error']\n",
    "print(A)\n"
   ]
  },
  {
   "cell_type": "markdown",
   "metadata": {
    "colab_type": "text",
    "id": "APUqEUWUGmXo"
   },
   "source": [
    "### Task 4 (20 points)\n",
    "\n",
    "1.  Use the function written in Task 2 to generate a dataset of degree 45, with 20 samples each in the training and test sets. There should be no noise in the samples.\n",
    "2.  Repeat steps 2 to 4 from Task 3 for this dataset.\n",
    "3.  This target doesn't have noise like the previous one. Does this make the result surprising? Explain your stance. Also give a detailed explanation of why this happens.\n",
    "\n",
    "\n",
    " Overall performance: Both the models are performing very poorly since both the number of features and the data size is pretty small, we can improve the accuracy by accounting for these issues. \n",
    " \n",
    " Quadratic Vs degree 10: The degree 10 model is performing better than the quadratic model in terms of both the train & Train data since it has more features to extract data from and there is no overfitting happening.   \n",
    " \n",
    " Test Vs Validation: In degree 10 model the accuracy of the train set is much better than the test due to the problem of overfitting\n",
    "\n",
    "\n",
    "**Hint**: You are free (in fact encouraged) to design new experiements under the same paradigm to understand what is happening. You can buttress your explanation with any plots which you might generate from such new experiments."
   ]
  },
  {
   "cell_type": "code",
   "execution_count": 51,
   "metadata": {},
   "outputs": [
    {
     "name": "stdout",
     "output_type": "stream",
     "text": [
      "                    Training Error  Testing Error\n",
      "0  Quadratic Model    54574.783729   2.441719e+09\n",
      "1  Degree 10 Model        1.161031   2.203230e+09\n"
     ]
    },
    {
     "data": {
      "image/png": "[encoded data removed]",
      "text/plain": [
       "<Figure size 432x288 with 1 Axes>"
      ]
     },
     "metadata": {},
     "output_type": "display_data"
    }
   ],
   "source": [
    "X_train, y_train, X_test, y_test=generate_dataset(45, 20, 20, 0)\n",
    "\n",
    "X_train=pd.DataFrame(X_train)\n",
    "y_train=pd.DataFrame(y_train)\n",
    "X_test=pd.DataFrame(X_test)\n",
    "X_train=pd.DataFrame(X_train)\n",
    "visualize_function(45, -1, 1)\n",
    "\n",
    "X_train.columns=['value']\n",
    "X_test.columns=['value']\n",
    "plt.scatter(X_train,y_train,color='r')\n",
    "\n",
    "for i in range(11):\n",
    "    X_train[i]=X_train['value'] ** i\n",
    "\n",
    "X_train = X_train.drop('value', 1)\n",
    "    \n",
    "for i in range(11):\n",
    "    X_test[i]=X_test['value'] ** i\n",
    "\n",
    "X_test = X_test.drop('value', 1)\n",
    "X_train.columns=['x0','x1','x2','x3','x4','x5','x6','x7','x8','x9','x10']\n",
    "X_test.columns=['x0','x1','x2','x3','x4','x5','x6','x7','x8','x9','x10']\n",
    "\n",
    "##Model A\n",
    "LR_quad = linear_model.LinearRegression()\n",
    "LR_quad.fit(X_train.iloc[:,:3], y_train)\n",
    "\n",
    "y_pred = LR_quad.predict(X_train.iloc[:,:3])\n",
    "MSE_quad_train=mean_squared_error(y_train, y_pred)\n",
    "\n",
    "y_pred = LR_quad.predict(X_test.iloc[:,:3])\n",
    "MSE_quad_test=mean_squared_error(y_test, y_pred)\n",
    "\n",
    "\n",
    "##Model B\n",
    "LR_pow = linear_model.LinearRegression()\n",
    "LR_pow.fit(X_train.iloc[:,:11], y_train)\n",
    "\n",
    "y_pred = LR_pow.predict(X_train.iloc[:,:11])\n",
    "MSE_high_pow_train=mean_squared_error(y_train, y_pred)\n",
    "\n",
    "y_pred = LR_pow.predict(X_test.iloc[:,:11])\n",
    "MSE_high_pow_test=mean_squared_error(y_test, y_pred)\n",
    "\n",
    "A = [['Quadratic Model',MSE_quad_train,MSE_quad_test],['Degree 10 Model',MSE_high_pow_train,MSE_high_pow_test]]\n",
    "A=pd.DataFrame(A)\n",
    "A.columns=['  ','Training Error','Testing Error']\n",
    "print(A)\n"
   ]
  }
 ],
 "metadata": {
  "colab": {
   "collapsed_sections": [],
   "name": "Assignment2.ipynb",
   "provenance": [],
   "version": "0.3.2"
  },
  "kernelspec": {
   "display_name": "Python 3",
   "language": "python",
   "name": "python3"
  },
  "language_info": {
   "codemirror_mode": {
    "name": "ipython",
    "version": 3
   },
   "file_extension": ".py",
   "mimetype": "text/x-python",
   "name": "python",
   "nbconvert_exporter": "python",
   "pygments_lexer": "ipython3",
   "version": "3.6.5"
  }
 },
 "nbformat": 4,
 "nbformat_minor": 1
}
