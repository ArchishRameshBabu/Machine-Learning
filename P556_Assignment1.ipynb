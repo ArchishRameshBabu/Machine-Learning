{
 "cells": [
  {
   "cell_type": "markdown",
   "metadata": {
    "colab_type": "text",
    "id": "Wqg21c05IrtK"
   },
   "source": [
    "# CSCI-P556\n",
    "## Assignment 1\n",
    "### Due date: 5:30PM, September 26, 2018\n",
    "\n",
    "\n",
    "---\n",
    "\n"
   ]
  },
  {
   "cell_type": "markdown",
   "metadata": {
    "colab_type": "text",
    "id": "qoac1eEaDJPA"
   },
   "source": [
    "## Question 1: Binary Classification (35 points)\n",
    "\n",
    "Consider the binary classification problem of mapping a given input to two classes. Let $\\mathcal{X}=\\mathbb{R}^d$ and $\\mathcal{Y}=\\{+1, -1\\}$ be the input space and output space, respectively. In simple words, it means that the input has $d$ features and all of them are real valued, whereas the output can only take values $-1$ or $+1$. This is one of the most common problems in machine learning and many sophisticated methods exist to solve it. In the question, we will solve it using the concepts we have already learned in class. Like we did in linear regression, let us assume the two sets of points can be separated using a straight line i.e. the samples are linearly separable. So if $d=2$, one should be able to draw a line to distinguish between the two classes. All points lying on side of the line should belong to a particular class (say $1$) and the points lying on the other side should belong to another class (say $2$). To see what this would look like,  your first task is as follows:\n",
    "\n",
    "### Task 1\n",
    "Write a function that will randomly generate a dataset for this problem. Your function should randomly choose a line $l$, which can be denoted as $ax + by + c = 0$. According to basic high school geometry, the line divides the plane into two sides. On one side, $ax+by+c>0$ while on the other $ax+by+c<0$. Use this fact to randomly generate $k_0$ points on the side of class 0 and $k_1$ points on the side of class 1. Use the function you wrote in the previous assignment to plot this dataset!"
   ]
  },
  {
   "cell_type": "code",
   "execution_count": 1,
   "metadata": {},
   "outputs": [],
   "source": [
    "import numpy as np\n",
    "import pandas as pd\n",
    "import matplotlib.pyplot as plt\n",
    "import random\n",
    "import itertools\n",
    "from sklearn import linear_model\n",
    "import timeit"
   ]
  },
  {
   "cell_type": "code",
   "execution_count": 2,
   "metadata": {},
   "outputs": [],
   "source": [
    "def plotLineAndPoints(l1, l2, *c):\n",
    "\n",
    "        fir_l1=[]\n",
    "        for i in range(len(l1)):\n",
    "            fir_l1.append(l1[i][0])\n",
    "\n",
    "        sec_l1=[]\n",
    "        for i in range(len(l1)):\n",
    "            sec_l1.append(l1[i][1])\n",
    "\n",
    "        fir_l2=[]\n",
    "        for i in range(len(l2)):\n",
    "            fir_l2.append(l2[i][0])\n",
    "\n",
    "        sec_l2=[]\n",
    "        for i in range(len(l2)):\n",
    "            sec_l2.append(l2[i][1])\n",
    "\n",
    "\n",
    "        x = np.linspace(-100,100,1000)\n",
    "        plt.scatter(fir_l1,sec_l1,color='r',marker='+',label='l0')\n",
    "        plt.scatter(fir_l2,sec_l2,color='b',marker='o',label='l1')\n",
    "        plt.xlabel('x value')\n",
    "        plt.ylabel('y value')\n",
    "        plt.legend()\n",
    "        try:plt.plot(x,-(c[0][2]+c[0][0]*x)/c[0][1],color='g')\n",
    "        except:print(\"Not enough arguments to create a line\")\n",
    "pass"
   ]
  },
  {
   "cell_type": "code",
   "execution_count": 3,
   "metadata": {
    "colab": {},
    "colab_type": "code",
    "id": "jJK-_b2dNKwl"
   },
   "outputs": [
    {
     "name": "stdout",
     "output_type": "stream",
     "text": [
      "The weights for a,b,c respectively are 15.829982240026084 -16.636134948362983 8.97422738132044\n"
     ]
    },
    {
     "data": {
      "image/png": "[encoded data removed]",
      "text/plain": [
       "<Figure size 432x288 with 1 Axes>"
      ]
     },
     "metadata": {},
     "output_type": "display_data"
    }
   ],
   "source": [
    "def generate_dataset(k0, k1):\n",
    "    \n",
    "    ##Generating random numbers \n",
    "    a=random.uniform(-20,40)\n",
    "    b=random.uniform(-20,40)\n",
    "    c=random.uniform(-20,10)\n",
    "    x=random.uniform(-100,100)\n",
    "    y=random.uniform(-100,100)\n",
    "    \n",
    "    \n",
    "    ##Identifying the points which go on class -1\n",
    "    lower_points=[]\n",
    "    lower_x=[]\n",
    "    lower_y=[]\n",
    "    label=[]\n",
    "    d=0\n",
    "    while(d<=k0-1):\n",
    "        x=np.random.randint(low=-100, high=100, size=1)\n",
    "        y=np.random.randint(low=-100,high=100, size=1)\n",
    "        if(a*x + b*y +c<0):\n",
    "            lower_points.append([x,y]) \n",
    "            lower_x.append(x)\n",
    "            lower_y.append(y)\n",
    "            label.append(-1)\n",
    "            d=d+1\n",
    "\n",
    "    ##Identifying the points which go on class =1        \n",
    "    upper_points=[]\n",
    "    upper_x=[]\n",
    "    upper_y=[]\n",
    "    d=0\n",
    "    while(d<=k1-1):\n",
    "        x=np.random.randint(low=-100, high=100, size=1)\n",
    "        y=np.random.randint(low=-100,high=100, size=1)\n",
    "        if(a*x + b*y +c>0):\n",
    "            upper_points.append([x,y])\n",
    "            upper_x.append(x)\n",
    "            upper_y.append(y)\n",
    "            label.append(1)\n",
    "            d=d+1\n",
    "    \n",
    "    ##Formatting and printing the output \n",
    "    w=[a,b,c]\n",
    "    upper_points1=pd.DataFrame(upper_points)\n",
    "    lower_points1=pd.DataFrame(lower_points)\n",
    "    upper_points1=upper_points1.astype(int)\n",
    "    lower_points1=lower_points1.astype(int)\n",
    "    df = pd.concat([lower_points1, upper_points1], ignore_index=True)\n",
    "    df = df.values\n",
    "    print(\"The weights for a,b,c respectively are\",w[0],w[1],w[2])\n",
    "    plotLineAndPoints(upper_points,lower_points, (w[0],w[1],w[2]))\n",
    "    return(df,label)\n",
    "pass\n",
    "\n",
    "##Input for k0 and k1\n",
    "k0=44\n",
    "k1=7\n",
    "\n",
    "##Function Call\n",
    "X,y=generate_dataset(k0,k1)\n"
   ]
  },
  {
   "cell_type": "markdown",
   "metadata": {
    "colab_type": "text",
    "id": "M9u1MV7ANqWV"
   },
   "source": [
    "### Task 2\n",
    "\n",
    "When you are given a dataset for which you do not have access the the target function $f$ which maps $\\mathcal{X}$ to $\\mathcal{Y}$. You learn it from the data. In this problem, it is akin to learning the parameters of the line that separates the two classes. The same line above can be represented as $$\\sum_{i=0}^d w_i x_i = 0$$\n",
    "Notice that $i$ starts from $0$, instead of $1$. Can you think of why?\n",
    "\n",
    "The goal here is to correctly find out $\\bf{w}$. The algorithm to find it is a simple iterative process. \n",
    "1. Randomly choose a $w$ to begin with.\n",
    "2. Keep on adjusting the value of $\\bf{w}$ as follows until all data samples are correctly classified:\n",
    "3. Randomly choose a sample from the dataset and see if it is correctly classified. If yes,  move on to another sample.\n",
    "4. If not,  then  update the weights as $\\mathbf{w}^{t+1} = \\mathbf{w}^t + y \\cdot \\mathbf{x}$ , where \n",
    "    *   $\\mathbf{w}^{t+1}$ is value of $\\mathbf{w}$ at iteration $t+1$\n",
    "    *   $\\mathbf{w}^{t}$ is value of $\\mathbf{w}$ at iteration $t$\n",
    "    *  $y$ is the class label for the sample under consideration\n",
    "    * $\\mathbf{x}$ is the data-point under consideration\n",
    "    \n",
    "    \n",
    "Write a function that implements this learning algorithm. The input to the function is going to be a dataset represented by the input variable $X$ and the target variable $y$. The output of the function should be the chosen $\\mathbf{w}$.\n",
    "\n",
    "\n",
    "\n"
   ]
  },
  {
   "cell_type": "code",
   "execution_count": 4,
   "metadata": {
    "colab": {},
    "colab_type": "code",
    "id": "-IQCxqfcbN2i"
   },
   "outputs": [
    {
     "name": "stdout",
     "output_type": "stream",
     "text": [
      "Initial Weights taken for w are  [0. 0. 0.]\n",
      "Final Weights are [ -3.  49. -44.]\n"
     ]
    },
    {
     "data": {
      "image/png": "[encoded data removed]",
      "text/plain": [
       "<Figure size 432x288 with 1 Axes>"
      ]
     },
     "metadata": {},
     "output_type": "display_data"
    }
   ],
   "source": [
    "def fit(X, y):\n",
    "    \n",
    "    ##Identifying the points for class -1 and 1\n",
    "    X=pd.DataFrame(X)\n",
    "    y=pd.DataFrame(y)\n",
    "    data_complete=pd.concat([X, y], axis=1)\n",
    "    upper_value=data_complete.loc[data_complete.iloc[:,-1]>-1,]\n",
    "    upper_value= upper_value.iloc[:, :-1]\n",
    "    lower_value=data_complete.loc[data_complete.iloc[:,-1]<1,]\n",
    "    lower_value= lower_value.iloc[:, :-1]\n",
    "    m=y.size\n",
    "    lower_points= lower_value.apply(tuple, axis=1)\n",
    "    upper_points=upper_value.apply(tuple, axis=1)\n",
    "    lower_points=list(lower_points)\n",
    "    upper_points=list(upper_points)\n",
    "    \n",
    "    ##Initial weights and adding intercept term\n",
    "    X = np.c_[np.ones(m), X] \n",
    "    w=np.zeros(X.shape[1])\n",
    "    print(\"Initial Weights taken for w are \",w)\n",
    "    i=0\n",
    "    \n",
    "    \n",
    "    ##Updatting the weights \n",
    "    while i <= X.shape[0]-1:\n",
    "        check=-1\n",
    "        result=np.matmul(X[i][:],np.transpose(w))\n",
    "        if result>0:check=1\n",
    "        i=i+1\n",
    "        ans=y.loc[i-1][0]\n",
    "        if(check!=ans):\n",
    "            mod=ans*X[i-1][:]\n",
    "            i=0\n",
    "            update=np.transpose(w)+np.transpose(mod)\n",
    "            w=update\n",
    "    \n",
    "    ##Printing the weights and the graph \n",
    "    print(\"Final Weights are\",w)\n",
    "    if len(w)==3:\n",
    "        plotLineAndPoints(upper_points,lower_points, (w[1],w[2],w[0]))\n",
    "\n",
    "pass\n",
    "\n",
    "fit(X,y)"
   ]
  },
  {
   "cell_type": "markdown",
   "metadata": {
    "colab_type": "text",
    "id": "SjnYiCSSb6oc"
   },
   "source": [
    "### Task 3\n",
    "Give an intuition of why the above algorithm converges for linearly separable data? We do not expect you to give a mathematic proof, but it would be great if you can provide one. You will get full points even if you just provide an intuition of a few lines. Including figures or mathematical equations is encouraged but not required.\n",
    "\n",
    "w represents a line/plane which divides the data. Lets take a point at random, if the line/plane correctly classifies the point then there no need to change w but if it misclassified it them we need to push the w to the opposide of the point. By updating w with the product of vectors x and y, we make sure that the w moves towards x and we keep updating w till its value is on the oppoite side of x.\n",
    "\n",
    "If $w_1*x_1 + w_2*x_2 +w_3 > 0$ then we predict 1 but if the original output is -1, we reduce $w_1,w_2,w_3$ by $-x_1,-x_2,-1$ respectively to move w towards x. \n",
    "\n",
    "Reference : http://work.caltech.edu/library/013.pdf"
   ]
  },
  {
   "cell_type": "markdown",
   "metadata": {
    "colab_type": "text",
    "id": "WKl58tcccl4U"
   },
   "source": [
    "### Task 4\n",
    "What happens when the data is not linearly separable? What can be done to salvage the situation?\n",
    "\n",
    "If the data is not linearly seperable then the model will fail to coverge. \n",
    "\n",
    "Some ways to salvage the situation if the data is not linearly seperable \n",
    "\n",
    "1.Transfrom the variables to make them linearly seperable\n",
    "2. Transfrom the coordinate system to make them linearly seperable "
   ]
  },
  {
   "cell_type": "markdown",
   "metadata": {
    "colab_type": "text",
    "id": "A0_H35ditn1_"
   },
   "source": [
    "## Question 2: Linear Regression (40 points)\n",
    "\n",
    "There are two ways of solving the linear regression problem. The first one is called ordinary least squares, where you learn the parameters of the model by using the closed-form differentitaion of the standard cost function. This method cannot be used if there is no closed-form solution to the derivative of the cost function. In this case, we resort to gradient descent which learn the parameters by iteratively updating them until it reaches the solution i.e. the minimum of the cost function. In this problem we are going to explore both of these implementations. \n",
    "\n",
    "Using the code that we are providing in the next few cells, you will:\n",
    "\n",
    "\n",
    "1. Implement linear regression using the ordinary least squares method\n",
    "2. Implement linear regression using gradient descent\n",
    "3. Execute both versions of the linear regression on sklearn's Boston Housing dataset. Plot your results. Which version executes faster? Explain why that is the case."
   ]
  },
  {
   "cell_type": "code",
   "execution_count": 5,
   "metadata": {
    "colab": {},
    "colab_type": "code",
    "id": "-40QUDB_hfZ-"
   },
   "outputs": [],
   "source": [
    "def feature_normalization(X):\n",
    "    '''\n",
    "    In this function we are going to do something similar to what we did in A0, \n",
    "    we are going to normalize all the features. Implement the following steps:\n",
    "    \n",
    "    - for each feature, calculate its mean\n",
    "    - substract the mean from their respective feature\n",
    "    - save the above result in the 'mu' variable\n",
    "    \n",
    "    - for each feature, calculate its standard deviation\n",
    "    - divide each feature by its standard deviation\n",
    "    - save the above result in the 'sigma' variable\n",
    "    \n",
    "    '''\n",
    "  \n",
    "    n = X.shape[1]\n",
    "    X_norm = X\n",
    "    mu = np.zeros(n)\n",
    "    sigma = np.zeros(n)\n",
    "    X_norm = X\n",
    "    X_norm=X_norm.astype(float)\n",
    "    mu=X.agg('mean')\n",
    "    sigma=(X.agg('var')) ** 0.5\n",
    "    X_norm=(X-mu)/sigma \n",
    "\n",
    "    return X_norm, mu, sigma"
   ]
  },
  {
   "cell_type": "code",
   "execution_count": 6,
   "metadata": {
    "colab": {},
    "colab_type": "code",
    "id": "Cg-4siXinuPI"
   },
   "outputs": [],
   "source": [
    "def cost_function(X, y, theta):\n",
    "    '''\n",
    "    In this function we are going to... you guessed it...\n",
    "    Implement the cost function!\n",
    " \n",
    "    '''\n",
    "    m = y.size\n",
    "    cost = 0\n",
    "    pred=np.matmul(X,np.transpose(theta))\n",
    "    error=np.transpose(pred)-np.transpose(y)\n",
    "    error_transpose=np.transpose(error)\n",
    "    cost_final=np.matmul(error,error_transpose)\n",
    "    cost=cost_final/(m)\n",
    "\n",
    "    return cost"
   ]
  },
  {
   "cell_type": "code",
   "execution_count": 7,
   "metadata": {
    "colab": {},
    "colab_type": "code",
    "id": "fx-mfDnshhVW"
   },
   "outputs": [],
   "source": [
    "def gradient_descent(X, y, theta, learning_rate, num_iters):\n",
    "    m = y.size\n",
    "    J_history = np.zeros(num_iters)\n",
    "\n",
    "    for i in range(0, num_iters):\n",
    "        J_history[i] = cost_function(X, y, theta)\n",
    "        pred=pd.DataFrame(np.matmul(X,np.transpose(theta)))  \n",
    "        val1=pred-y\n",
    "        grad=(2*(np.matmul(np.transpose(X),val1)))/m    \n",
    "        alpha_grad=alpha*grad\n",
    "        theta=theta-np.transpose(alpha_grad)\n",
    "        \n",
    "    return theta, J_history"
   ]
  },
  {
   "cell_type": "code",
   "execution_count": 8,
   "metadata": {
    "colab": {},
    "colab_type": "code",
    "id": "3e0WkgewhkrY"
   },
   "outputs": [],
   "source": [
    "def linearRegression_ols(X, y):\n",
    "    '''\n",
    "    Implement the closed-form (or ordinary least squares) solution for\n",
    "    linear regression. Save the result in the variable 'theta'.\n",
    "    More information can be found at: \n",
    "      https://en.wikipedia.org/wiki/Ordinary_least_squares\n",
    "    '''\n",
    "    theta = np.zeros((X.shape[1], 1))\n",
    "    step1=np.matmul(np.transpose(X),X)\n",
    "    step2=np.linalg.inv(step1) \n",
    "    step3=np.matmul(step2,np.transpose(X))\n",
    "    theta=np.matmul(step3,y)\n",
    "    return theta"
   ]
  },
  {
   "cell_type": "code",
   "execution_count": 9,
   "metadata": {
    "colab": {},
    "colab_type": "code",
    "id": "eEHDdwBAyPen"
   },
   "outputs": [],
   "source": [
    "# load dataset\n",
    "\n",
    "from sklearn.datasets import load_boston\n",
    "dataset = load_boston()\n",
    "X = dataset.data\n",
    "y = dataset.target\n",
    "m = y.size\n",
    "X=pd.DataFrame(X)\n",
    "y=pd.DataFrame(y)"
   ]
  },
  {
   "cell_type": "code",
   "execution_count": 10,
   "metadata": {
    "colab": {},
    "colab_type": "code",
    "id": "ZKLNvembyR8S"
   },
   "outputs": [
    {
     "name": "stdout",
     "output_type": "stream",
     "text": [
      "Normalizing Features ...\n"
     ]
    }
   ],
   "source": [
    "# Normalize features\n",
    "print('Normalizing Features ...')\n",
    "\n",
    "X, mu, sigma = feature_normalization(X)\n",
    "X = np.c_[np.ones(m), X]  # Add a column of ones to X"
   ]
  },
  {
   "cell_type": "code",
   "execution_count": 11,
   "metadata": {
    "colab": {},
    "colab_type": "code",
    "id": "DEIeF7LZyU43"
   },
   "outputs": [
    {
     "name": "stdout",
     "output_type": "stream",
     "text": [
      "Running gradient descent ...\n",
      "Time taken for Gradient Descent = 1.1592030041085275\n",
      "Theta computed from gradient descent : \n",
      "[[ 2.25328063e+01 -8.81665880e-01  1.01313920e+00 -4.12637219e-02\n",
      "   7.08927719e-01 -1.99052898e+00  2.71664078e+00 -1.33140144e-02\n",
      "  -3.08863546e+00  2.18881842e+00 -1.55712552e+00 -2.03943655e+00\n",
      "   8.56297082e-01 -3.73206799e+00]]\n"
     ]
    },
    {
     "data": {
      "image/png": "[encoded data removed]",
      "text/plain": [
       "<Figure size 432x288 with 1 Axes>"
      ]
     },
     "metadata": {},
     "output_type": "display_data"
    }
   ],
   "source": [
    "# Now we proceed with Gradient Descent\n",
    "\n",
    "print('Running gradient descent ...')\n",
    "\n",
    "# Choose some alpha value\n",
    "alpha = 0.03\n",
    "num_iters = 400\n",
    "\n",
    "# Initialize theta and execute gradient descent\n",
    "\n",
    "theta = np.zeros(X.shape[1])\n",
    "X=pd.DataFrame(X)\n",
    "y=pd.DataFrame(y)\n",
    "code_start = timeit.default_timer()\n",
    "theta, J_history = gradient_descent(X, y, theta, alpha, num_iters)\n",
    "code_end = timeit.default_timer()\n",
    "elapsed_time_GD=code_end - code_start\n",
    "# Plot the convergence graph\n",
    "plt.figure()\n",
    "plt.plot(np.arange(J_history.size), J_history)\n",
    "plt.xlabel('Number of iterations')\n",
    "plt.ylabel('Cost J')\n",
    "\n",
    "# Display gradient descent's result\n",
    "print(\"Time taken for Gradient Descent =\",elapsed_time_GD)\n",
    "print('Theta computed from gradient descent : \\n{}'.format(theta))"
   ]
  },
  {
   "cell_type": "code",
   "execution_count": 12,
   "metadata": {
    "colab": {},
    "colab_type": "code",
    "id": "oxEh8LIdhWQz"
   },
   "outputs": [
    {
     "name": "stdout",
     "output_type": "stream",
     "text": [
      "Time taken for OLS to run = 0.001186320491112669 hence for the Boston Dataset OLS is faster by 1.1580166836174148\n",
      "For bigger datasets Gradient descent should be faster since inverting a matrix is a time consuming function\n",
      "Theta computed from OLS linear regression : \n",
      "[ 3.64911033e+01 -1.07170557e-01  4.63952195e-02  2.08602395e-02\n",
      "  2.68856140e+00 -1.77957587e+01  3.80475246e+00  7.51061703e-04\n",
      " -1.47575880e+00  3.05655038e-01 -1.23293463e-02 -9.53463555e-01\n",
      "  9.39251272e-03 -5.25466633e-01]\n"
     ]
    }
   ],
   "source": [
    "# Now we are going to use the ordinary least squares (OLS) linear regression\n",
    "\n",
    "# re-load dataset\n",
    "\n",
    "from sklearn.datasets import load_boston\n",
    "dataset = load_boston()\n",
    "\n",
    "X = dataset.data\n",
    "y = dataset.target\n",
    "\n",
    "m=y.size\n",
    "X = np.c_[np.ones(m), X] # Add intercept term to X\n",
    "\n",
    "code_start = timeit.default_timer()\n",
    "theta = linearRegression_ols(X, y)\n",
    "code_end = timeit.default_timer()\n",
    "\n",
    "OLS_Run_Time=code_end-code_start\n",
    "Time_diff=elapsed_time_GD-OLS_Run_Time\n",
    "# Display normal equation's result\n",
    "print(\"Time taken for OLS to run =\",OLS_Run_Time,\"hence for the Boston Dataset OLS is faster by\",Time_diff)\n",
    "print(\"For bigger datasets Gradient descent should be faster since inverting a matrix is a time consuming function\")\n",
    "print('Theta computed from OLS linear regression : \\n{}'.format(theta))"
   ]
  },
  {
   "cell_type": "markdown",
   "metadata": {
    "colab_type": "text",
    "id": "M6M7dM3JJ4Ns"
   },
   "source": [
    "Now lets do gradient descent with L2-regularization (or Ridge Regression). The next 6 cells are a copy of the template that we provided above with a '_regularization' added at the end of the function name. Feel free to reuse the code that you wrote above but be sure to make the appropriate modifications to the necessary functions to add L2-regularization."
   ]
  },
  {
   "cell_type": "code",
   "execution_count": 13,
   "metadata": {
    "colab": {},
    "colab_type": "code",
    "id": "55TAK-OahXIe"
   },
   "outputs": [],
   "source": [
    "def feature_normalization_regularization(X):\n",
    "    '''\n",
    "    In this function we are going to do something similar to what we did in A0, \n",
    "    we are going to normalize all the features. Implement the following steps:\n",
    "    \n",
    "    - for each feature, calculate its mean\n",
    "    - substract the mean from their respective feature\n",
    "    - save the above result in the 'mu' variable\n",
    "    \n",
    "    - for each feature, calculate its standard deviation\n",
    "    - divide each feature by its standard deviation\n",
    "    - save the above result in the 'sigma' variable\n",
    "    \n",
    "    '''\n",
    "  \n",
    "    n = X.shape[1]\n",
    "    X_norm = X\n",
    "    mu = np.zeros(n)\n",
    "    sigma = np.zeros(n)\n",
    "    X_norm=X_norm.astype(float)\n",
    "    mu=X.agg('mean')\n",
    "    sigma=(X.agg('var')) ** 0.5\n",
    "    X_norm=(X-mu)/sigma \n",
    "\n",
    "    return X_norm, mu, sigma"
   ]
  },
  {
   "cell_type": "code",
   "execution_count": 14,
   "metadata": {
    "colab": {},
    "colab_type": "code",
    "id": "qwLekxJMKOEi"
   },
   "outputs": [],
   "source": [
    "def cost_function_regularization(X, y, theta,lamda):\n",
    "    '''\n",
    "    In this function we are going to... you guessed it...\n",
    "    Implement the cost function!\n",
    " \n",
    "    '''\n",
    "\n",
    "    m = y.size\n",
    "    cost = 0\n",
    "    pred=np.matmul(X,np.transpose(theta))\n",
    "    error=np.transpose(pred)-np.transpose(y)\n",
    "    error_transpose=np.transpose(error)\n",
    "    cost_final=np.matmul(error,error_transpose)  + lamda * np.matmul(theta,np.transpose(theta))\n",
    "    cost=cost_final/(m)\n",
    "\n",
    "    return cost"
   ]
  },
  {
   "cell_type": "code",
   "execution_count": 15,
   "metadata": {
    "colab": {},
    "colab_type": "code",
    "id": "5FIZa_vUKQrO"
   },
   "outputs": [],
   "source": [
    "def gradient_descent_regularization(X, y, theta, learning_rate, num_iters,lamda):\n",
    "    m = y.size\n",
    "    J_history = np.zeros(num_iters)\n",
    "\n",
    "    for i in range(0, num_iters):\n",
    "        J_history[i] = cost_function_regularization(X, y, theta,lamda)\n",
    "        pred=pd.DataFrame(np.matmul(X,np.transpose(theta)))  \n",
    "        val1=pred-y\n",
    "        grad=np.matmul(np.transpose(X),val1)/m    \n",
    "        alpha_grad=2*alpha*grad\n",
    "        factor=1-(learning_rate*lamda/m)\n",
    "        theta=theta*factor -np.transpose(alpha_grad)\n",
    "\n",
    "    return theta, J_history"
   ]
  },
  {
   "cell_type": "code",
   "execution_count": 16,
   "metadata": {
    "colab": {},
    "colab_type": "code",
    "id": "R500H0_PKT3d"
   },
   "outputs": [],
   "source": [
    "# load dataset\n",
    "from sklearn.datasets import load_boston\n",
    "dataset = load_boston()\n",
    "X = dataset.data\n",
    "y = dataset.target\n",
    "X=pd.DataFrame(X)\n",
    "y=pd.DataFrame(y)"
   ]
  },
  {
   "cell_type": "code",
   "execution_count": 17,
   "metadata": {
    "colab": {},
    "colab_type": "code",
    "id": "9k-9UuXkKWT7"
   },
   "outputs": [
    {
     "name": "stdout",
     "output_type": "stream",
     "text": [
      "Normalizing Features ...\n"
     ]
    }
   ],
   "source": [
    "# Normalize features\n",
    "print('Normalizing Features ...')\n",
    "m=y.size\n",
    "X, mu, sigma = feature_normalization_regularization(X)\n",
    "X = np.c_[np.ones(m), X]  # Add a column of ones to X"
   ]
  },
  {
   "cell_type": "code",
   "execution_count": 18,
   "metadata": {
    "colab": {},
    "colab_type": "code",
    "id": "E_TgDVLgKZVq"
   },
   "outputs": [
    {
     "name": "stdout",
     "output_type": "stream",
     "text": [
      "Running gradient descent ...\n",
      "Theta computed from Regularized gradient descent : \n",
      "[[ 2.25328063e+01 -8.81665880e-01  1.01313920e+00 -4.12637219e-02\n",
      "   7.08927719e-01 -1.99052898e+00  2.71664078e+00 -1.33140144e-02\n",
      "  -3.08863546e+00  2.18881842e+00 -1.55712552e+00 -2.03943655e+00\n",
      "   8.56297082e-01 -3.73206799e+00]]\n"
     ]
    },
    {
     "data": {
      "image/png": "[encoded data removed]",
      "text/plain": [
       "<Figure size 432x288 with 1 Axes>"
      ]
     },
     "metadata": {},
     "output_type": "display_data"
    }
   ],
   "source": [
    "# Now we proceed with Gradient Descent\n",
    "\n",
    "print('Running gradient descent ...')\n",
    "\n",
    "# Choose some alpha value\n",
    "alpha = 0.03\n",
    "num_iters = 400\n",
    "lamda=0\n",
    "\n",
    "# Initialize theta and execute gradient descent\n",
    "X=pd.DataFrame(X)\n",
    "y=pd.DataFrame(y)\n",
    "theta = np.zeros(X.shape[1])\n",
    "theta, J_history = gradient_descent_regularization(X, y, theta, alpha, num_iters,lamda)\n",
    "\n",
    "# Plot the convergence graph\n",
    "plt.figure()\n",
    "plt.plot(np.arange(J_history.size), J_history)\n",
    "plt.xlabel('Number of iterations')\n",
    "plt.ylabel('Cost J')\n",
    "\n",
    "# Display gradient descent's result\n",
    "print('Theta computed from Regularized gradient descent : \\n{}'.format(theta))"
   ]
  },
  {
   "cell_type": "markdown",
   "metadata": {
    "colab_type": "text",
    "id": "yY9i61hZGjOl"
   },
   "source": [
    "## Question 3: Guess the function (25 points)\n",
    "\n",
    "Consider three datasets provided with this notebook, namely `data1.csv` and `data2.csv`. Each dataset has 1000 samples. Every sample has 5 features $x_1, x_2, \\ldots, x_5$ and a target variable $y$. In each of the datasets, the target variable has been generated from the features of a different unknown function $y$. In general, $$y=f(\\mathbf{x})=\\sum_{j} w_j \\prod_{i=1}^5 x_i^{k_{i;j}}$$ where $x_i$ is the $i^{\\text {th}}$ feature and $j$ denotes a particular term in the polynomial and $k_{i;j}$ is the power of the $i^{\\text{th}}$ feature in the $j^{\\text{th}}$ term. It can be any whole number from $0$ to $3$.\n",
    "\n",
    "Thus $y_1=f_1(\\mathbf{x})$;  $y_2=f_2(\\mathbf{x})$ and $y_3=f_3(\\mathbf{x})$.\n",
    "\n",
    "1. Find both the unknown target functions using the given datasets. Use the dedicated cells defined below to write the corresponding methodology and code.\n",
    "2. Define all your variables such that when we run the corresponding code cell, it should nicely print the correct output which supports your methodology and also prints the right answer.\n",
    "\n",
    "#### Hints:\n",
    "1. Rounding off will make things easy and we encourage it. For instance, you can write 2.98 as 3!"
   ]
  },
  {
   "cell_type": "markdown",
   "metadata": {
    "colab_type": "text",
    "id": "-s5oaMtDqAAk"
   },
   "source": [
    "### Methodology and answer for function 1"
   ]
  },
  {
   "cell_type": "code",
   "execution_count": 23,
   "metadata": {
    "colab": {},
    "colab_type": "code",
    "id": "DpQ-_-25qDbq"
   },
   "outputs": [
    {
     "name": "stdout",
     "output_type": "stream",
     "text": [
      "The Theta values for intercept,x1,x2,x3,x4,x5 are  [ 1.19401075e+01  1.82122405e+00 -3.66067052e+00 -4.06977276e-02\n",
      "  3.73138891e+00 -1.16506940e-02]\n",
      "The Mean Square Error of the model is  2.9\n",
      "Printing the Data with prediction\n",
      "      x1   x2   x3   x4   x5  Acutal y     Pred y  Squared Error\n",
      "0    0.0  0.0  0.0 -1.0 -2.0     8.320   8.232020       0.007740\n",
      "1   -0.0 -2.0 -1.0  0.0 -0.0    19.054  19.302146       0.061577\n",
      "2   -1.0 -0.0  1.0 -3.0  0.0     0.910  -1.115981       4.104599\n",
      "3    2.0  1.0  0.0  0.0  2.0    13.786  11.898584       3.562340\n",
      "4   -0.0 -0.0  1.0 -0.0  1.0    10.876  11.887759       1.023656\n",
      "5   -1.0 -1.0  1.0 -1.0  1.0     8.089   9.995817       3.635950\n",
      "6   -0.0 -1.0 -0.0  0.0  1.0    17.964  15.589127       5.640020\n",
      "7    2.0  1.0 -1.0  1.0 -1.0    13.885  15.705622       3.314666\n",
      "8   -0.0  0.0 -1.0 -0.0 -1.0     8.236  11.992456      14.110961\n",
      "9    0.0  0.0 -0.0  0.0 -1.0    12.081  11.951758       0.016703\n",
      "10   0.0  1.0  1.0 -1.0 -1.0     7.192   4.519001       7.144923\n",
      "11  -1.0  1.0  0.0  1.0 -1.0     9.090  10.201253       1.234882\n",
      "12  -1.0  1.0  0.0  0.0  0.0     9.626   6.458213      10.034875\n",
      "13  -2.0 -1.0 -1.0 -0.0  1.0     8.516  11.987377      12.050458\n",
      "14   0.0 -1.0 -0.0  1.0  1.0    23.230  19.320516      15.284063\n",
      "15  -1.0  1.0  1.0  0.0  2.0     8.208   6.394214       3.289820\n",
      "16  -0.0  0.0  0.0  0.0  0.0    12.650  11.940108       0.503947\n",
      "17  -1.0  0.0 -0.0 -2.0 -0.0     2.065   2.656106       0.349406\n",
      "18   1.0  1.0  2.0 -0.0 -0.0    11.025  10.019266       1.011502\n",
      "19  -1.0  1.0 -1.0 -0.0  1.0     4.277   6.487260       4.885249\n",
      "20   0.0 -1.0  1.0  1.0 -0.0    21.176  19.291469       3.551456\n",
      "21   1.0  0.0 -1.0  2.0 -1.0    20.818  21.276458       0.210184\n",
      "22   1.0 -1.0 -0.0  1.0  0.0    20.939  21.153391       0.045964\n",
      "23  -0.0 -1.0  2.0  1.0  1.0    19.435  19.239121       0.038369\n",
      "24  -1.0 -0.0 -1.0 -2.0  0.0     5.615   2.696803       8.515871\n",
      "25   1.0  1.0  0.0 -1.0  1.0     5.347   6.357621       1.021356\n",
      "26   0.0 -0.0  1.0 -1.0  0.0     8.968   8.168021       0.639967\n",
      "27  -0.0  0.0 -1.0 -2.0  0.0     3.433   4.518027       1.177285\n",
      "28  -2.0  2.0 -1.0 -1.0  1.0    -1.546  -2.726023       1.392455\n",
      "29  -0.0  1.0 -1.0  1.0 -0.0    11.893  12.051524       0.025130\n",
      "..   ...  ...  ...  ...  ...       ...        ...            ...\n",
      "970  1.0  1.0 -1.0 -2.0  1.0     3.852   2.666930       1.404390\n",
      "971  0.0 -0.0  1.0  0.0  1.0    14.525  11.887759       6.955040\n",
      "972 -0.0  1.0  1.0  1.0  1.0    11.047  11.958477       0.830791\n",
      "973 -1.0  2.0 -2.0  1.0 -0.0     8.626   6.610327       4.062938\n",
      "974  0.0 -0.0  1.0 -0.0  1.0    11.755  11.887759       0.017625\n",
      "975  1.0  0.0  1.0 -0.0  0.0    12.864  13.720634       0.733822\n",
      "976  1.0  1.0  0.0  0.0  0.0    10.497  10.100661       0.157085\n",
      "977  2.0 -0.0 -0.0  1.0 -1.0    21.101  19.325595       3.152062\n",
      "978 -0.0 -1.0 -1.0 -1.0 -0.0    13.956  11.910087       4.185761\n",
      "979  0.0  1.0  0.0  1.0 -1.0    10.390  12.022477       2.664980\n",
      "980 -1.0 -0.0  1.0 -0.0  0.0    10.291  10.078186       0.045290\n",
      "981  2.0  2.0  1.0 -1.0 -0.0     3.005   4.489128       2.202636\n",
      "982  1.0  1.0  1.0 -0.0 -1.0     7.549  10.071614       6.363582\n",
      "983 -0.0  0.0 -1.0 -0.0 -1.0     8.733  11.992456      10.624053\n",
      "984  1.0  1.0  2.0 -1.0 -0.0     5.782   6.287877       0.255911\n",
      "985 -1.0  0.0  2.0 -0.0  1.0     8.438  10.025837       2.521227\n",
      "986  1.0  1.0  0.0 -0.0 -2.0     8.863  10.123962       1.590026\n",
      "987  2.0  1.0 -1.0  1.0 -2.0    17.363  15.717273       2.708417\n",
      "988  0.0 -0.0 -0.0 -1.0  0.0    10.439   8.208719       4.974155\n",
      "989 -0.0  1.0  2.0  0.0 -0.0     9.919   8.198042       2.961698\n",
      "990  3.0  0.0  1.0 -1.0 -2.0    12.148  13.654994       2.271032\n",
      "991 -3.0  0.0 -0.0  1.0  1.0     8.741  10.196174       2.117530\n",
      "992 -0.0 -2.0 -0.0 -0.0  2.0    17.464  19.238147       3.147598\n",
      "993  2.0  1.0  1.0 -1.0  1.0    10.000   8.138148       3.466494\n",
      "994 -2.0  0.0  0.0  0.0  0.0     7.465   8.297659       0.693322\n",
      "995 -0.0  0.0 -1.0  0.0  3.0    10.056  11.945853       3.571545\n",
      "996 -1.0  1.0 -0.0  1.0  1.0     9.086  10.177951       1.192357\n",
      "997  1.0  0.0 -1.0 -1.0  1.0     8.980  10.058990       1.164219\n",
      "998 -0.0 -0.0 -0.0 -1.0  0.0    10.500   8.208719       5.249970\n",
      "999  0.0 -1.0  1.0  0.0 -1.0    17.713  15.571731       4.585033\n",
      "\n",
      "[1000 rows x 8 columns]\n"
     ]
    }
   ],
   "source": [
    "## Code for function 1\n",
    "###Method \n",
    "##1. According to the function given above we need to multiply x1,x2,x3,x4,x5 with different powers ranging from 0 to 3.Hence there is a total of 1024 combinations \n",
    "##2.In the first question the net power is 1 hence only combinaitons where the power of the 5 variables that add up to 1 is possible. \n",
    "####The powers for x1,x2,x3,x4,x5 respectively are (0,0,0,0,1), (0,0,0,1,0), (0,0,1,0,0), (0,1,0,0,0), (1,0,0,0,0)\n",
    "##3.The different combinations produce the variables x5,x4,x3,x2,x1 \n",
    "##4.For the 5 variables round off and run Linear regression model \n",
    "##5.Print the theta value and the dataset  \n",
    "\n",
    "\n",
    "##Reading the file \n",
    "data1=pd.read_csv(\"D:/Sem 1 IU My Stuff/AML/Assignment 2/data1.csv\",header=None)\n",
    "Raw_Data = data1.iloc[:, :-1]\n",
    "y = data1.iloc[:,-1]\n",
    "m=y.size\n",
    "\n",
    "##Rounding off and adding the intercept term \n",
    "Raw_Data=np.c_[np.ones(m), Raw_Data] # Add intercept term to the dataset\n",
    "Raw_Data=Raw_Data.round(0)\n",
    "\n",
    "##OLS Method \n",
    "theta = np.zeros((Raw_Data.shape[1], 1))\n",
    "step1=np.matmul(np.transpose(Raw_Data),Raw_Data)\n",
    "step2=np.linalg.inv(step1) \n",
    "step3=np.matmul(step2,np.transpose(Raw_Data))\n",
    "theta=np.matmul(step3,y)\n",
    "\n",
    "##Predicting the Theta values \n",
    "pred=np.dot(Raw_Data,theta)\n",
    "pred=pd.DataFrame(pred)\n",
    "Raw_Data=pd.DataFrame(Raw_Data)\n",
    "\n",
    "##Formatting & Printing the outcomes \n",
    "df = pd.concat([Raw_Data.iloc[:, 1:],y,pred], axis=1)\n",
    "df.columns=['x1','x2','x3','x4','x5','Acutal y','Pred y']\n",
    "df['Squared Error']=((df['Pred y']-df['Acutal y'])**2)\n",
    "Error_mean=round(df['Squared Error'].mean(),2)\n",
    "\n",
    "print(\"The Theta values for intercept,x1,x2,x3,x4,x5 are \",theta)\n",
    "\n",
    "print(\"The Mean Square Error of the model is \",Error_mean)\n",
    "\n",
    "print(\"Printing the Data with prediction\")\n",
    "\n",
    "print(df)"
   ]
  },
  {
   "cell_type": "markdown",
   "metadata": {
    "colab_type": "text",
    "id": "lyF_2EcAqFHJ"
   },
   "source": [
    "### Methodology and answer for function 2"
   ]
  },
  {
   "cell_type": "code",
   "execution_count": 20,
   "metadata": {},
   "outputs": [
    {
     "name": "stdout",
     "output_type": "stream",
     "text": [
      "Calculating the features\n",
      "The Mean Squared Error of the model is  13.444005307934265\n",
      "The 1024 values of theta are                   0\n",
      "0    -1.132418e+11\n",
      "1     5.250200e-01\n",
      "2    -5.559257e-02\n",
      "3    -1.893635e-01\n",
      "4     5.654923e-01\n",
      "5    -2.725860e+00\n",
      "6    -1.030553e+00\n",
      "7    -9.311262e-02\n",
      "8    -1.991737e+00\n",
      "9     7.544298e-01\n",
      "10   -1.452923e-02\n",
      "11   -1.739118e-01\n",
      "12    4.484105e-01\n",
      "13    4.212968e-01\n",
      "14    1.250209e+00\n",
      "15    5.430694e-01\n",
      "16    1.272638e+00\n",
      "17   -9.722614e-01\n",
      "18   -6.159011e+00\n",
      "19   -1.939169e+00\n",
      "20   -2.581720e-01\n",
      "21   -8.637031e+09\n",
      "22    8.373419e+09\n",
      "23    9.671342e+09\n",
      "24   -1.441901e+00\n",
      "25   -3.825889e+09\n",
      "26    2.372479e+09\n",
      "27    1.453410e+09\n",
      "28    2.312472e+00\n",
      "29    4.704274e+09\n",
      "...            ...\n",
      "994   7.402584e+09\n",
      "995  -2.085958e+10\n",
      "996   3.570246e+10\n",
      "997   9.492195e+09\n",
      "998  -2.422238e+10\n",
      "999   1.362139e+10\n",
      "1000  5.687752e+09\n",
      "1001 -2.557515e+09\n",
      "1002  4.484101e+09\n",
      "1003  3.016835e+10\n",
      "1004 -4.240525e+10\n",
      "1005  2.825483e+10\n",
      "1006  2.618974e+10\n",
      "1007 -8.169570e+10\n",
      "1008  1.088293e+10\n",
      "1009  5.369833e+09\n",
      "1010 -2.303802e+09\n",
      "1011 -3.016270e+10\n",
      "1012 -3.131689e+10\n",
      "1013  1.243843e+10\n",
      "1014  1.723237e+09\n",
      "1015  9.196158e+09\n",
      "1016 -4.516518e+10\n",
      "1017  2.980768e+10\n",
      "1018  3.758511e+10\n",
      "1019 -6.238729e+10\n",
      "1020  2.212373e+10\n",
      "1021  7.927642e+10\n",
      "1022 -3.447464e+10\n",
      "1023 -1.195617e+11\n",
      "\n",
      "[1024 rows x 1 columns]\n",
      "Printing the Data with prediction\n",
      "     Actual y     Pred y\n",
      "0     82.7389  70.318054\n",
      "1     44.6709  42.317200\n",
      "2     35.3125  36.640640\n",
      "3     51.4025  49.690079\n",
      "4     38.8274  39.875122\n",
      "5     42.0783  41.700211\n",
      "6     72.2481  77.869263\n",
      "7     88.2421  88.226334\n",
      "8     46.3091  46.356827\n",
      "9     17.7641  17.906876\n",
      "10    72.7030  74.023209\n",
      "11    39.7919  37.580261\n",
      "12    42.1430  39.296600\n",
      "13    25.5811  23.979385\n",
      "14    39.6951  40.654526\n",
      "15    58.8851  76.631241\n",
      "16    29.4214  29.631409\n",
      "17    39.2816  38.626709\n",
      "18    43.5309  44.685654\n",
      "19    39.2575  39.548431\n",
      "20    -4.7677   5.367813\n",
      "21    41.7902  40.849106\n",
      "22    41.5487  40.945114\n",
      "23    42.5028  42.504608\n",
      "24    46.1003  46.063812\n",
      "25    38.1666  41.016647\n",
      "26    61.4804  60.697876\n",
      "27    41.0977  40.888443\n",
      "28    43.3792  42.336060\n",
      "29    41.3366  42.052048\n",
      "..        ...        ...\n",
      "970   36.9762  38.524277\n",
      "971   50.0668  51.139801\n",
      "972   39.7537  39.233353\n",
      "973   42.7011  46.085434\n",
      "974   76.7425  76.306641\n",
      "975   17.2792   9.786285\n",
      "976   36.9710  38.078018\n",
      "977   -6.4699   9.579834\n",
      "978   66.5555  66.304459\n",
      "979   41.0431  44.665909\n",
      "980   41.1633  42.714096\n",
      "981   35.8528  37.095016\n",
      "982   42.3354  46.486725\n",
      "983   32.8026  32.927505\n",
      "984   40.9816  41.755829\n",
      "985   63.7358  63.765991\n",
      "986   63.3741  63.484634\n",
      "987   39.4865  40.360764\n",
      "988    9.6219  18.180435\n",
      "989   30.6929  31.273163\n",
      "990   47.1014  44.995499\n",
      "991   29.8945  35.063400\n",
      "992   33.4212  33.187164\n",
      "993  -18.8436 -18.466965\n",
      "994   42.2712  43.309387\n",
      "995   40.6034  40.361313\n",
      "996   39.1051  39.505753\n",
      "997   42.4756  42.233322\n",
      "998   47.9015  44.854675\n",
      "999   50.5762  50.841064\n",
      "\n",
      "[1000 rows x 2 columns]\n"
     ]
    }
   ],
   "source": [
    "##Reading the Dataset \n",
    "###Method \n",
    "##1. Accoding to the function given above we need to multiply x1,x2,x3,x4,x5 after raising them to different powers ranging from 0 to 3.\n",
    "##2. Hence there is a total of 1024 combinations features \n",
    "##3. For the second question we need to use all 1024 combination \n",
    "##4. Round off the dataset to zero decimals and Create a model will all 1024 variables using sklearn \n",
    "##5. Print the Theta values and the compare the prediction with actual\n",
    "\n",
    "##5.Print the theta value and the dataset \n",
    "data2=pd.read_csv(\"D:/Sem 1 IU My Stuff/AML/Assignment 2/data2.csv\",header=None)\n",
    "Raw_Data = data2.iloc[:, :-1]\n",
    "Raw_Data=Raw_Data.round(0)\n",
    "y = data2.iloc[:,-1]\n",
    "\n",
    "##Creating all 1024 combinations \n",
    "lst = list(itertools.product([0,1,2,3], repeat=5))\n",
    "lst=pd.DataFrame(lst)\n",
    "\n",
    "##Creating the Dataset with 1024 variables \n",
    "print(\"Calculating the features\")\n",
    "X = np.zeros(shape=(1000,1024))\n",
    "X=pd.DataFrame(X)\n",
    "\n",
    "for k in range(0,1024):\n",
    "    X[k]=(Raw_Data[0]**(lst.loc[k][0])) * (Raw_Data[1]**(lst.loc[k][1])) * (Raw_Data[2]**(lst.loc[k][2])) * (Raw_Data[3]**(lst.loc[k][3])) * (Raw_Data[4]**(lst.loc[k][4])) \n",
    "\n",
    "##Creating a Linear Regression Model \n",
    "LR = linear_model.LinearRegression()\n",
    "LR.fit(X, y)\n",
    "Theta=LR.coef_\n",
    "\n",
    "# Make predictions using the testing set\n",
    "y_pred = LR.predict(X)\n",
    "Sq_Error=(y-y_pred)**2\n",
    "MSE=Sq_Error.mean()\n",
    "print(\"The Mean Squared Error of the model is \",MSE)\n",
    "print(\"The 1024 values of theta are \",pd.DataFrame(Theta))\n",
    "\n",
    "df = pd.concat([pd.DataFrame(y),pd.DataFrame(y_pred)], axis=1)\n",
    "df.columns=['Actual y','Pred y']\n",
    "\n",
    "print(\"Printing the Data with prediction\")\n",
    "\n",
    "print(df)"
   ]
  }
 ],
 "metadata": {
  "colab": {
   "collapsed_sections": [],
   "name": "P556_Assignment1v2.ipynb",
   "provenance": [],
   "version": "0.3.2"
  },
  "kernelspec": {
   "display_name": "Python 3",
   "language": "python",
   "name": "python3"
  },
  "language_info": {
   "codemirror_mode": {
    "name": "ipython",
    "version": 3
   },
   "file_extension": ".py",
   "mimetype": "text/x-python",
   "name": "python",
   "nbconvert_exporter": "python",
   "pygments_lexer": "ipython3",
   "version": "3.6.5"
  }
 },
 "nbformat": 4,
 "nbformat_minor": 1
}
